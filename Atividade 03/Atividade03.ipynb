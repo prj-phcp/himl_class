{
 "cells": [
  {
   "cell_type": "markdown",
   "id": "6d1fa12f",
   "metadata": {},
   "source": [
    "# Atividade 03 - Aprendizado Supervisionado 1\n",
    "\n",
    "Aluno: Pedro Henrique Cardoso Paulo<br>\n",
    "Disciplina: HIML<br>\n",
    "Professor: Helon"
   ]
  },
  {
   "cell_type": "markdown",
   "id": "4a5281d8",
   "metadata": {},
   "source": [
    "Nessa atividade seguiremos usando as bases de dados consideradas na atividade 2. Realizaremos novamente um fit usando o SoftMax e compararemos com os métodos SVC e KNN"
   ]
  },
  {
   "cell_type": "markdown",
   "id": "c5e011a0",
   "metadata": {},
   "source": [
    "## Passo 0 - Importando bibliotecas"
   ]
  },
  {
   "cell_type": "code",
   "execution_count": 22,
   "id": "d7bf37a3",
   "metadata": {},
   "outputs": [],
   "source": [
    "# Pacotes padrao\n",
    "import numpy as np\n",
    "from os import getcwd\n",
    "from os.path import join \n",
    "import matplotlib.pyplot as plt\n",
    "import pickle\n",
    "from datetime import datetime\n",
    "\n",
    "# Normalizadores\n",
    "from sklearn.preprocessing import MinMaxScaler, StandardScaler\n",
    "\n",
    "# Reducao de dimensionalidade\n",
    "from sklearn.decomposition import PCA\n",
    "\n",
    "# Separação em treino e teste\n",
    "from sklearn.model_selection import train_test_split\n",
    "\n",
    "# Modelos\n",
    "from sklearn.linear_model import LogisticRegression\n",
    "from sklearn.svm import SVC\n",
    "from sklearn.neighbors import KNeighborsClassifier\n",
    "\n",
    "# Metricas de erro\n",
    "from sklearn.metrics import ConfusionMatrixDisplay, confusion_matrix"
   ]
  },
  {
   "cell_type": "markdown",
   "id": "60a04681",
   "metadata": {},
   "source": [
    "## Passo 1 - Importando os dados"
   ]
  },
  {
   "cell_type": "code",
   "execution_count": 23,
   "id": "9278e85a",
   "metadata": {},
   "outputs": [],
   "source": [
    "fname = join(getcwd(),'data','data_postAR.pkl')\n",
    "with open(fname, 'rb') as file:\n",
    "    X1, y = pickle.load(file)"
   ]
  },
  {
   "cell_type": "code",
   "execution_count": 24,
   "id": "f000c053",
   "metadata": {},
   "outputs": [
    {
     "name": "stdout",
     "output_type": "stream",
     "text": [
      "(850, 124) (850,)\n"
     ]
    }
   ],
   "source": [
    "print(X1.shape, y.shape)"
   ]
  },
  {
   "cell_type": "markdown",
   "id": "f7fc73b8",
   "metadata": {},
   "source": [
    "## Passo 2 - Replicando pré-processamento"
   ]
  },
  {
   "cell_type": "markdown",
   "id": "8a84db58",
   "metadata": {},
   "source": [
    "O pré-processamento será feito usando as mesmas regras de um caso anterior do exercício, assim, as etapas a serem seguidas serão:\n",
    "\n",
    "* Divisão em treino e teste (50% de teste)\n",
    "* Normalização dos dados\n",
    "* Aplicação do PCA (99% de variância)\n",
    "\n",
    "Como no exercício anterior todos os preditores apresentaram bons resultados, nesse exercício vamos buscar usar o perditor de melhor desempenho numérico"
   ]
  },
  {
   "cell_type": "markdown",
   "id": "f94e7f86",
   "metadata": {},
   "source": [
    "### 2.1 - Separando treino e teste"
   ]
  },
  {
   "cell_type": "code",
   "execution_count": 25,
   "id": "efbfd093",
   "metadata": {},
   "outputs": [],
   "source": [
    "#Pequenas melhorias desde a última rodada\n",
    "# 1 - Mudando a seed aleatória pra 37 (número que passou pela minha cabeça)\n",
    "# 2 - Usando o parâmetro stratify pra melhorar a segregação das classes\n",
    "# 3 - Estamos usando 50% só pra treino, pra deixar mais interessante o erro\n",
    "size = 0.5\n",
    "X1_tr, X1_te, y_tr, y_te = train_test_split(X1, y, test_size=size, random_state=37, stratify=y)"
   ]
  },
  {
   "cell_type": "markdown",
   "id": "78103604",
   "metadata": {},
   "source": [
    "### 2.2 - Normalizando os dados"
   ]
  },
  {
   "cell_type": "code",
   "execution_count": 26,
   "id": "7043a41f",
   "metadata": {},
   "outputs": [],
   "source": [
    "scaler = MinMaxScaler()\n",
    "scaler.fit(X1_tr)\n",
    "X1_tr = scaler.transform(X1_tr)\n",
    "X1_te = scaler.transform(X1_te)"
   ]
  },
  {
   "cell_type": "markdown",
   "id": "2b3a5a5c",
   "metadata": {},
   "source": [
    "### 2.3 - Aplicando PCA"
   ]
  },
  {
   "cell_type": "code",
   "execution_count": 27,
   "id": "b1d95f01",
   "metadata": {},
   "outputs": [],
   "source": [
    "n_comp = 0.99\n",
    "pca = PCA(n_components = n_comp)\n",
    "pca.fit(X1_tr)\n",
    "X1_tr_pca = pca.transform(X1_tr)\n",
    "X1_te_pca = pca.transform(X1_te)"
   ]
  },
  {
   "cell_type": "code",
   "execution_count": 28,
   "id": "b847f1da",
   "metadata": {},
   "outputs": [
    {
     "data": {
      "text/plain": [
       "<matplotlib.collections.PolyCollection at 0x1e625c1e550>"
      ]
     },
     "execution_count": 28,
     "metadata": {},
     "output_type": "execute_result"
    },
    {
     "data": {
      "image/png": "[encoded data removed]",
      "text/plain": [
       "<Figure size 432x288 with 1 Axes>"
      ]
     },
     "metadata": {
      "needs_background": "light"
     },
     "output_type": "display_data"
    }
   ],
   "source": [
    "#Visualizando os PCs\n",
    "plt.pcolor(pca.components_)"
   ]
  },
  {
   "cell_type": "markdown",
   "id": "643da11a",
   "metadata": {},
   "source": [
    "NOTA: Quis refazer esse teste pois creio ser mais certo não deixar, sob nenhuma hipótese, o conjunto de treino ser contaminado com o conjunto de teste. Isso inclui rodar o PCA e o normalizador apenas no treino e extender o resultado pro teste. UMa coisa que vale comentar e que pareceu bem legal é que os componentes calculados do PCA parecem com os anteriormente calculados usando o conjunto todo. (Para mais infos, ver nb da atividade 2)"
   ]
  },
  {
   "cell_type": "markdown",
   "id": "3b0f7e9d",
   "metadata": {},
   "source": [
    "## Passo 3 - Ajuste dos modelos"
   ]
  },
  {
   "cell_type": "markdown",
   "id": "4b7d7822",
   "metadata": {},
   "source": [
    "Pra facilitar, vamos criar uma função que gere as comparações que a gnt quer ver. Ela vai receber um dicionário com modelo, parâmetros a testar e vai printar uns resultados pra gente de forma automática."
   ]
  },
  {
   "cell_type": "code",
   "execution_count": 29,
   "id": "03d45a99",
   "metadata": {},
   "outputs": [],
   "source": [
    "def teste_esperto(dicio_modelo, plot=True):\n",
    "    output = []\n",
    "    for nome_modelo in dicio_modelo.keys():\n",
    "        print('Testando modelo: {}'.format(nome_modelo))\n",
    "        # Instanciando o modelo\n",
    "        model_class = dicio_modelo[nome_modelo][0]\n",
    "        model_inp = dicio_modelo[nome_modelo][1]\n",
    "        t0 = datetime.now()\n",
    "        model = model_class(**model_inp).fit(X1_tr_pca, y_tr)\n",
    "        t1 = datetime.now()\n",
    "        \n",
    "        score_train = model.score(X1_tr_pca, y_tr)\n",
    "        score_test = model.score(X1_te_pca, y_te)\n",
    "        output.append([nome_modelo, score_train, score_test])\n",
    "\n",
    "        print('    Train score: {}'.format(score_train))\n",
    "        print('    Test score: {}'.format(score_test))\n",
    "        print()\n",
    "        print('    Adjustment took {}'.format((t1 - t0)))\n",
    "        print()\n",
    "    \n",
    "        #Plotting confusion matrix\n",
    "        if plot:\n",
    "            cm = confusion_matrix(y_te, model.predict(X1_te_pca))\n",
    "            cmgraph = ConfusionMatrixDisplay(cm)\n",
    "            fig, ax = plt.subplots()\n",
    "            ax.set_title(nome_modelo)\n",
    "            cmgraph.plot(ax=ax)\n",
    "            #plt.show()\n",
    "            \n",
    "    return np.array(output)\n",
    "        "
   ]
  },
  {
   "cell_type": "markdown",
   "id": "064db610",
   "metadata": {},
   "source": [
    "### 3.1 - SoftMax"
   ]
  },
  {
   "cell_type": "markdown",
   "id": "3c2a692e",
   "metadata": {},
   "source": [
    "Aqui vamos apenas repetir os procedimentos usados no modelo SoftMax, mas aqui vamos tentar mexer um pouco nos parâmetros tbm"
   ]
  },
  {
   "cell_type": "code",
   "execution_count": 30,
   "id": "f7a901f5",
   "metadata": {},
   "outputs": [
    {
     "name": "stdout",
     "output_type": "stream",
     "text": [
      "Testando modelo: SoftMax1\n",
      "    Train score: 0.9929411764705882\n",
      "    Test score: 0.9882352941176471\n",
      "\n",
      "    Adjustment took 0:00:00.090312\n",
      "\n"
     ]
    },
    {
     "data": {
      "text/plain": [
       "array([['SoftMax1', '0.9929411764705882', '0.9882352941176471']],\n",
       "      dtype='<U32')"
      ]
     },
     "execution_count": 30,
     "metadata": {},
     "output_type": "execute_result"
    },
    {
     "data": {
      "image/png": "[encoded data removed]",
      "text/plain": [
       "<Figure size 432x288 with 2 Axes>"
      ]
     },
     "metadata": {
      "needs_background": "light"
     },
     "output_type": "display_data"
    }
   ],
   "source": [
    "dicio_softmax = {'SoftMax1':[LogisticRegression, {'multi_class':'multinomial', 'random_state':37, 'max_iter':5000, 'solver':'saga'}]}\n",
    "teste_esperto(dicio_softmax)"
   ]
  },
  {
   "cell_type": "markdown",
   "id": "c6e864fe",
   "metadata": {},
   "source": [
    "Vamos agora testar com alguns diferentes parâmetros de regularização"
   ]
  },
  {
   "cell_type": "code",
   "execution_count": 31,
   "id": "72652b9e",
   "metadata": {},
   "outputs": [
    {
     "name": "stdout",
     "output_type": "stream",
     "text": [
      "Testando modelo: SM1\n",
      "    Train score: 0.9011764705882352\n",
      "    Test score: 0.8847058823529412\n",
      "\n",
      "    Adjustment took 0:00:00.012065\n",
      "\n",
      "Testando modelo: SM2\n",
      "    Train score: 0.9882352941176471\n",
      "    Test score: 0.9741176470588235\n",
      "\n",
      "    Adjustment took 0:00:00.014961\n",
      "\n",
      "Testando modelo: SM3\n",
      "    Train score: 0.9929411764705882\n",
      "    Test score: 0.9882352941176471\n",
      "\n",
      "    Adjustment took 0:00:00.101728\n",
      "\n",
      "Testando modelo: SM4\n",
      "    Train score: 1.0\n",
      "    Test score: 0.9905882352941177\n",
      "\n",
      "    Adjustment took 0:00:00.485399\n",
      "\n",
      "Testando modelo: SM5\n",
      "    Train score: 1.0\n",
      "    Test score: 0.9952941176470588\n",
      "\n",
      "    Adjustment took 0:00:00.499417\n",
      "\n",
      "Testando modelo: SM6\n",
      "    Train score: 1.0\n",
      "    Test score: 0.9976470588235294\n",
      "\n",
      "    Adjustment took 0:00:00.728820\n",
      "\n"
     ]
    },
    {
     "data": {
      "text/plain": [
       "<BarContainer object of 6 artists>"
      ]
     },
     "execution_count": 31,
     "metadata": {},
     "output_type": "execute_result"
    },
    {
     "data": {
      "image/png": "[encoded data removed]",
      "text/plain": [
       "<Figure size 720x360 with 2 Axes>"
      ]
     },
     "metadata": {
      "needs_background": "light"
     },
     "output_type": "display_data"
    }
   ],
   "source": [
    "#Teste 1 - Regularização\n",
    "dicio_softmax = {'SM1':[LogisticRegression, {'penalty': 'elasticnet', 'C': 0.01, 'l1_ratio':0, 'multi_class':'multinomial', 'random_state':37, 'max_iter':5000, 'solver':'saga'}],\n",
    "                 'SM2':[LogisticRegression, {'penalty': 'elasticnet', 'C': 0.1, 'l1_ratio':0, 'multi_class':'multinomial', 'random_state':37, 'max_iter':5000, 'solver':'saga'}],\n",
    "                 'SM3':[LogisticRegression, {'penalty': 'elasticnet', 'C': 1, 'l1_ratio':0, 'multi_class':'multinomial', 'random_state':37, 'max_iter':5000, 'solver':'saga'}],\n",
    "                 'SM4':[LogisticRegression, {'penalty': 'elasticnet', 'C': 10, 'l1_ratio':0, 'multi_class':'multinomial', 'random_state':37, 'max_iter':5000, 'solver':'saga'}],\n",
    "                 'SM5':[LogisticRegression, {'penalty': 'elasticnet', 'C': 100, 'l1_ratio':0, 'multi_class':'multinomial', 'random_state':37, 'max_iter':5000, 'solver':'saga'}],\n",
    "                 'SM6':[LogisticRegression, {'penalty': 'elasticnet', 'C': 1000, 'l1_ratio':0, 'multi_class':'multinomial', 'random_state':37, 'max_iter':5000, 'solver':'saga'}],}\n",
    "output = teste_esperto(dicio_softmax, plot=False)\n",
    "\n",
    "# Plotando os erros\n",
    "fig, ax = plt.subplots(nrows=1, ncols=2, figsize=(10,5))\n",
    "ax[0].bar(output[:,0], output[:,1].astype(float), alpha=1)\n",
    "ax[1].bar(output[:,0], output[:,2].astype(float), alpha=1)"
   ]
  },
  {
   "cell_type": "code",
   "execution_count": 32,
   "id": "b35a42e5",
   "metadata": {},
   "outputs": [
    {
     "name": "stdout",
     "output_type": "stream",
     "text": [
      "Testando modelo: SM1\n",
      "    Train score: 0.058823529411764705\n",
      "    Test score: 0.058823529411764705\n",
      "\n",
      "    Adjustment took 0:00:00.011023\n",
      "\n",
      "Testando modelo: SM2\n",
      "    Train score: 0.8541176470588235\n",
      "    Test score: 0.8588235294117647\n",
      "\n",
      "    Adjustment took 0:00:00.126723\n",
      "\n",
      "Testando modelo: SM3\n",
      "    Train score: 0.9952941176470588\n",
      "    Test score: 0.9882352941176471\n",
      "\n",
      "    Adjustment took 0:00:01.666957\n",
      "\n",
      "Testando modelo: SM4\n",
      "    Train score: 1.0\n",
      "    Test score: 0.9905882352941177\n",
      "\n",
      "    Adjustment took 0:00:02.080285\n",
      "\n",
      "Testando modelo: SM5\n",
      "    Train score: 1.0\n",
      "    Test score: 0.9976470588235294\n",
      "\n",
      "    Adjustment took 0:00:02.407707\n",
      "\n",
      "Testando modelo: SM6\n",
      "    Train score: 1.0\n",
      "    Test score: 0.9976470588235294\n",
      "\n",
      "    Adjustment took 0:00:01.863978\n",
      "\n"
     ]
    },
    {
     "data": {
      "text/plain": [
       "<BarContainer object of 6 artists>"
      ]
     },
     "execution_count": 32,
     "metadata": {},
     "output_type": "execute_result"
    },
    {
     "data": {
      "image/png": "[encoded data removed]",
      "text/plain": [
       "<Figure size 720x360 with 2 Axes>"
      ]
     },
     "metadata": {
      "needs_background": "light"
     },
     "output_type": "display_data"
    }
   ],
   "source": [
    "#Teste 2 - Métrica\n",
    "dicio_softmax = {'SM1':[LogisticRegression, {'penalty': 'elasticnet', 'C': 0.01, 'l1_ratio':1, 'multi_class':'multinomial', 'random_state':37, 'max_iter':5000, 'solver':'saga'}],\n",
    "                 'SM2':[LogisticRegression, {'penalty': 'elasticnet', 'C': 0.1, 'l1_ratio':1, 'multi_class':'multinomial', 'random_state':37, 'max_iter':5000, 'solver':'saga'}],\n",
    "                 'SM3':[LogisticRegression, {'penalty': 'elasticnet', 'C': 1, 'l1_ratio':1, 'multi_class':'multinomial', 'random_state':37, 'max_iter':5000, 'solver':'saga'}],\n",
    "                 'SM4':[LogisticRegression, {'penalty': 'elasticnet', 'C': 10, 'l1_ratio':1, 'multi_class':'multinomial', 'random_state':37, 'max_iter':5000, 'solver':'saga'}],\n",
    "                 'SM5':[LogisticRegression, {'penalty': 'elasticnet', 'C': 100, 'l1_ratio':1, 'multi_class':'multinomial', 'random_state':37, 'max_iter':5000, 'solver':'saga'}],\n",
    "                 'SM6':[LogisticRegression, {'penalty': 'elasticnet', 'C': 1000, 'l1_ratio':1, 'multi_class':'multinomial', 'random_state':37, 'max_iter':5000, 'solver':'saga'}],}\n",
    "output = teste_esperto(dicio_softmax, plot=False)\n",
    "\n",
    "# Plotando os erros\n",
    "fig, ax = plt.subplots(nrows=1, ncols=2, figsize=(10,5))\n",
    "ax[0].bar(output[:,0], output[:,1].astype(float), alpha=1)\n",
    "ax[1].bar(output[:,0], output[:,2].astype(float), alpha=1)"
   ]
  },
  {
   "cell_type": "markdown",
   "id": "a302a214",
   "metadata": {},
   "source": [
    "Parece pelos resultados que a regularização piora os resultados do score. Vamos testar o extremo sem regularização"
   ]
  },
  {
   "cell_type": "code",
   "execution_count": 33,
   "id": "65bdb0e9",
   "metadata": {},
   "outputs": [
    {
     "name": "stdout",
     "output_type": "stream",
     "text": [
      "Testando modelo: SoftMax1\n",
      "    Train score: 1.0\n",
      "    Test score: 0.9976470588235294\n",
      "\n",
      "    Adjustment took 0:00:01.017767\n",
      "\n"
     ]
    },
    {
     "data": {
      "text/plain": [
       "array([['SoftMax1', '1.0', '0.9976470588235294']], dtype='<U32')"
      ]
     },
     "execution_count": 33,
     "metadata": {},
     "output_type": "execute_result"
    },
    {
     "data": {
      "image/png": "[encoded data removed]",
      "text/plain": [
       "<Figure size 432x288 with 2 Axes>"
      ]
     },
     "metadata": {
      "needs_background": "light"
     },
     "output_type": "display_data"
    }
   ],
   "source": [
    "dicio_softmax = {'SoftMax1':[LogisticRegression, {'penalty': 'none','multi_class':'multinomial', 'random_state':37, 'max_iter':5000, 'solver':'saga'}]}\n",
    "teste_esperto(dicio_softmax)"
   ]
  },
  {
   "cell_type": "markdown",
   "id": "f390ef74",
   "metadata": {},
   "source": [
    "Conclusões gerais:\n",
    "\n",
    "* Pro nosso conjunto, o problema tem bons resultados sem regularização (nosso conjunto parece cobrir bem o espaço das soluções, vira quase uma interpolação?\n",
    "* Sem regularização o desempenho piora, demandando mais iterações\n",
    "* Se for importante manter a regularização, melhor usarmos normas mais próximas da L2, pq mesmo com regularização considerável essa norma teve um desempenho melhor em score (88% de acurácia x 0.05% de acurácia)"
   ]
  },
  {
   "cell_type": "markdown",
   "id": "3e043712",
   "metadata": {},
   "source": [
    "### 3.2 - SVM"
   ]
  },
  {
   "cell_type": "code",
   "execution_count": 34,
   "id": "ee0eead9",
   "metadata": {},
   "outputs": [
    {
     "name": "stdout",
     "output_type": "stream",
     "text": [
      "Testando modelo: SVM1\n",
      "    Train score: 1.0\n",
      "    Test score: 0.9929411764705882\n",
      "\n",
      "    Adjustment took 0:00:00.007722\n",
      "\n"
     ]
    },
    {
     "data": {
      "text/plain": [
       "array([['SVM1', '1.0', '0.9929411764705882']], dtype='<U32')"
      ]
     },
     "execution_count": 34,
     "metadata": {},
     "output_type": "execute_result"
    },
    {
     "data": {
      "image/png": "[encoded data removed]",
      "text/plain": [
       "<Figure size 432x288 with 2 Axes>"
      ]
     },
     "metadata": {
      "needs_background": "light"
     },
     "output_type": "display_data"
    }
   ],
   "source": [
    "dicio_softmax = {'SVM1':[SVC, {'kernel':'rbf', 'random_state':37, 'max_iter':-1}]}\n",
    "teste_esperto(dicio_softmax)"
   ]
  },
  {
   "cell_type": "code",
   "execution_count": 35,
   "id": "aa11cfdf",
   "metadata": {},
   "outputs": [
    {
     "name": "stdout",
     "output_type": "stream",
     "text": [
      "Testando modelo: SVM1\n",
      "    Train score: 1.0\n",
      "    Test score: 0.9976470588235294\n",
      "\n",
      "    Adjustment took 0:00:00.006998\n",
      "\n",
      "Testando modelo: SVM2\n",
      "    Train score: 1.0\n",
      "    Test score: 0.9858823529411764\n",
      "\n",
      "    Adjustment took 0:00:00.004986\n",
      "\n",
      "Testando modelo: SVM3\n",
      "    Train score: 0.9764705882352941\n",
      "    Test score: 0.9741176470588235\n",
      "\n",
      "    Adjustment took 0:00:00.005549\n",
      "\n",
      "Testando modelo: SVM4\n",
      "    Train score: 0.9482352941176471\n",
      "    Test score: 0.9458823529411765\n",
      "\n",
      "    Adjustment took 0:00:00.005982\n",
      "\n",
      "Testando modelo: SVM5\n",
      "    Train score: 1.0\n",
      "    Test score: 0.9929411764705882\n",
      "\n",
      "    Adjustment took 0:00:00.007978\n",
      "\n",
      "Testando modelo: SVM6\n",
      "    Train score: 0.96\n",
      "    Test score: 0.9552941176470588\n",
      "\n",
      "    Adjustment took 0:00:00.006064\n",
      "\n"
     ]
    },
    {
     "data": {
      "text/plain": [
       "<BarContainer object of 6 artists>"
      ]
     },
     "execution_count": 35,
     "metadata": {},
     "output_type": "execute_result"
    },
    {
     "data": {
      "image/png": "[encoded data removed]",
      "text/plain": [
       "<Figure size 720x360 with 2 Axes>"
      ]
     },
     "metadata": {
      "needs_background": "light"
     },
     "output_type": "display_data"
    }
   ],
   "source": [
    "# Teste 1 - Testando o kernel\n",
    "dicio_softmax = {'SVM1':[SVC, {'kernel':'linear', 'random_state':37, 'max_iter':-1}],\n",
    "                 'SVM2':[SVC, {'kernel':'poly', 'degree': 2, 'random_state':37, 'max_iter':-1}],\n",
    "                 'SVM3':[SVC, {'kernel':'poly', 'degree': 3,  'random_state':37, 'max_iter':-1}],\n",
    "                 'SVM4':[SVC, {'kernel':'poly', 'degree': 4,  'random_state':37, 'max_iter':-1}],\n",
    "                 'SVM5':[SVC, {'kernel':'rbf', 'random_state':37, 'max_iter':-1}],\n",
    "                 'SVM6':[SVC, {'kernel':'sigmoid', 'random_state':37, 'max_iter':-1}],\n",
    "                }\n",
    "output = teste_esperto(dicio_softmax, plot=False)\n",
    "\n",
    "# Plotando os erros\n",
    "fig, ax = plt.subplots(nrows=1, ncols=2, figsize=(10,5))\n",
    "ax[0].bar(output[:,0], output[:,1].astype(float), alpha=1)\n",
    "ax[1].bar(output[:,0], output[:,2].astype(float), alpha=1)"
   ]
  },
  {
   "cell_type": "markdown",
   "id": "991ac82e",
   "metadata": {},
   "source": [
    "Com parâmetros default, rbf e linear forma os melhores. Esse resultado faz sentido, tendo em mente que o rbf é um que se ajusta bem pra uma gama grande de funções e linear teve excelente desempenho no SoftMax. Vamos manter esses dois e testar alguns C's."
   ]
  },
  {
   "cell_type": "code",
   "execution_count": 36,
   "id": "06c16e84",
   "metadata": {},
   "outputs": [
    {
     "name": "stdout",
     "output_type": "stream",
     "text": [
      "Testando modelo: SVM1\n",
      "    Train score: 0.9623529411764706\n",
      "    Test score: 0.9317647058823529\n",
      "\n",
      "    Adjustment took 0:00:00.009973\n",
      "\n",
      "Testando modelo: SVM2\n",
      "    Train score: 0.9952941176470588\n",
      "    Test score: 0.9858823529411764\n",
      "\n",
      "    Adjustment took 0:00:00.003986\n",
      "\n",
      "Testando modelo: SVM3\n",
      "    Train score: 1.0\n",
      "    Test score: 0.9976470588235294\n",
      "\n",
      "    Adjustment took 0:00:00.003989\n",
      "\n",
      "Testando modelo: SVM4\n",
      "    Train score: 1.0\n",
      "    Test score: 0.9976470588235294\n",
      "\n",
      "    Adjustment took 0:00:00.003989\n",
      "\n",
      "Testando modelo: SVM5\n",
      "    Train score: 1.0\n",
      "    Test score: 0.9976470588235294\n",
      "\n",
      "    Adjustment took 0:00:00.004987\n",
      "\n",
      "Testando modelo: SVM6\n",
      "    Train score: 0.9835294117647059\n",
      "    Test score: 0.9647058823529412\n",
      "\n",
      "    Adjustment took 0:00:00.016955\n",
      "\n",
      "Testando modelo: SVM7\n",
      "    Train score: 0.9835294117647059\n",
      "    Test score: 0.9647058823529412\n",
      "\n",
      "    Adjustment took 0:00:00.013963\n",
      "\n",
      "Testando modelo: SVM8\n",
      "    Train score: 1.0\n",
      "    Test score: 0.9929411764705882\n",
      "\n",
      "    Adjustment took 0:00:00.006978\n",
      "\n",
      "Testando modelo: SVM9\n",
      "    Train score: 1.0\n",
      "    Test score: 0.9952941176470588\n",
      "\n",
      "    Adjustment took 0:00:00.006981\n",
      "\n",
      "Testando modelo: SVM10\n",
      "    Train score: 1.0\n",
      "    Test score: 0.9952941176470588\n",
      "\n",
      "    Adjustment took 0:00:00.007979\n",
      "\n"
     ]
    },
    {
     "data": {
      "text/plain": [
       "<BarContainer object of 10 artists>"
      ]
     },
     "execution_count": 36,
     "metadata": {},
     "output_type": "execute_result"
    },
    {
     "data": {
      "image/png": "[encoded data removed]",
      "text/plain": [
       "<Figure size 720x360 with 2 Axes>"
      ]
     },
     "metadata": {
      "needs_background": "light"
     },
     "output_type": "display_data"
    }
   ],
   "source": [
    "# Teste 2 - Testando o C\n",
    "dicio_softmax = {'SVM1':[SVC, {'kernel':'linear', 'C':0.01, 'random_state':37, 'max_iter':-1}],\n",
    "                 'SVM2':[SVC, {'kernel':'linear', 'C':0.1, 'random_state':37, 'max_iter':-1}],\n",
    "                 'SVM3':[SVC, {'kernel':'linear', 'C':1, 'random_state':37, 'max_iter':-1}],\n",
    "                 'SVM4':[SVC, {'kernel':'linear', 'C':10, 'random_state':37, 'max_iter':-1}],\n",
    "                 'SVM5':[SVC, {'kernel':'linear', 'C':100, 'random_state':37, 'max_iter':-1}],\n",
    "                 'SVM6':[SVC, {'kernel':'rbf', 'C':0.01, 'random_state':37, 'max_iter':-1}],\n",
    "                 'SVM7':[SVC, {'kernel':'rbf', 'C':0.1, 'random_state':37, 'max_iter':-1}],\n",
    "                 'SVM8':[SVC, {'kernel':'rbf', 'C':1, 'random_state':37, 'max_iter':-1}],\n",
    "                 'SVM9':[SVC, {'kernel':'rbf', 'C':10, 'random_state':37, 'max_iter':-1}],\n",
    "                 'SVM10':[SVC, {'kernel':'rbf', 'C':100, 'random_state':37, 'max_iter':-1}],\n",
    "                }\n",
    "output = teste_esperto(dicio_softmax, plot=False)\n",
    "\n",
    "# Plotando os erros\n",
    "fig, ax = plt.subplots(nrows=1, ncols=2, figsize=(10,5))\n",
    "ax[0].bar(output[:,0], output[:,1].astype(float), alpha=1)\n",
    "ax[1].bar(output[:,0], output[:,2].astype(float), alpha=1)"
   ]
  },
  {
   "cell_type": "markdown",
   "id": "14a2ffb9",
   "metadata": {},
   "source": [
    "Novamente, a regularização parece piorar a resposta do estudo, mas é interessante notar que com o SVM e kernel linear temos o mesmo resultado do SoftMax, mas com muito menos esforço computacional. O rbf não foi a melhor opção nem de longe nesse caso."
   ]
  },
  {
   "cell_type": "code",
   "execution_count": 37,
   "id": "6937322b",
   "metadata": {},
   "outputs": [
    {
     "name": "stdout",
     "output_type": "stream",
     "text": [
      "Testando modelo: SVM1\n",
      "    Train score: 1.0\n",
      "    Test score: 0.9976470588235294\n",
      "\n",
      "    Adjustment took 0:00:00.003986\n",
      "\n"
     ]
    },
    {
     "data": {
      "text/plain": [
       "array([['SVM1', '1.0', '0.9976470588235294']], dtype='<U32')"
      ]
     },
     "execution_count": 37,
     "metadata": {},
     "output_type": "execute_result"
    },
    {
     "data": {
      "image/png": "[encoded data removed]",
      "text/plain": [
       "<Figure size 432x288 with 2 Axes>"
      ]
     },
     "metadata": {
      "needs_background": "light"
     },
     "output_type": "display_data"
    }
   ],
   "source": [
    "dicio_softmax = {'SVM1':[SVC, {'kernel':'linear', 'C':1, 'random_state':37, 'max_iter':-1}]}\n",
    "teste_esperto(dicio_softmax)"
   ]
  },
  {
   "cell_type": "markdown",
   "id": "0fb88325",
   "metadata": {},
   "source": [
    "### 3.3 - KNN"
   ]
  },
  {
   "cell_type": "code",
   "execution_count": 38,
   "id": "9cec5e1c",
   "metadata": {},
   "outputs": [
    {
     "name": "stdout",
     "output_type": "stream",
     "text": [
      "Testando modelo: KNN1\n",
      "    Train score: 0.9905882352941177\n",
      "    Test score: 0.9905882352941177\n",
      "\n",
      "    Adjustment took 0:00:00.001029\n",
      "\n"
     ]
    },
    {
     "data": {
      "text/plain": [
       "array([['KNN1', '0.9905882352941177', '0.9905882352941177']], dtype='<U32')"
      ]
     },
     "execution_count": 38,
     "metadata": {},
     "output_type": "execute_result"
    },
    {
     "data": {
      "image/png": "[encoded data removed]",
      "text/plain": [
       "<Figure size 432x288 with 2 Axes>"
      ]
     },
     "metadata": {
      "needs_background": "light"
     },
     "output_type": "display_data"
    }
   ],
   "source": [
    "dicio_softmax = {'KNN1':[KNeighborsClassifier, {'n_neighbors':5,'weights':'uniform'}]}\n",
    "teste_esperto(dicio_softmax)"
   ]
  },
  {
   "cell_type": "code",
   "execution_count": 39,
   "id": "eace407b",
   "metadata": {},
   "outputs": [
    {
     "name": "stdout",
     "output_type": "stream",
     "text": [
      "Testando modelo: KNN1\n",
      "    Train score: 1.0\n",
      "    Test score: 0.9929411764705882\n",
      "\n",
      "    Adjustment took 0:00:00.001981\n",
      "\n",
      "Testando modelo: KNN2\n",
      "    Train score: 1.0\n",
      "    Test score: 0.9952941176470588\n",
      "\n",
      "    Adjustment took 0:00:00.000997\n",
      "\n",
      "Testando modelo: KNN3\n",
      "    Train score: 0.9905882352941177\n",
      "    Test score: 0.9905882352941177\n",
      "\n",
      "    Adjustment took 0:00:00.001047\n",
      "\n",
      "Testando modelo: KNN4\n",
      "    Train score: 0.9858823529411764\n",
      "    Test score: 0.9858823529411764\n",
      "\n",
      "    Adjustment took 0:00:00\n",
      "\n",
      "Testando modelo: KNN5\n",
      "    Train score: 0.9858823529411764\n",
      "    Test score: 0.9788235294117648\n",
      "\n",
      "    Adjustment took 0:00:00.000998\n",
      "\n",
      "Testando modelo: KNN6\n",
      "    Train score: 0.9788235294117648\n",
      "    Test score: 0.9576470588235294\n",
      "\n",
      "    Adjustment took 0:00:00\n",
      "\n"
     ]
    },
    {
     "data": {
      "text/plain": [
       "<BarContainer object of 6 artists>"
      ]
     },
     "execution_count": 39,
     "metadata": {},
     "output_type": "execute_result"
    },
    {
     "data": {
      "image/png": "[encoded data removed]",
      "text/plain": [
       "<Figure size 720x360 with 2 Axes>"
      ]
     },
     "metadata": {
      "needs_background": "light"
     },
     "output_type": "display_data"
    }
   ],
   "source": [
    "# Teste 1 - Testando o kn\n",
    "dicio_softmax = {'KNN1':[KNeighborsClassifier, {'n_neighbors':1,'weights':'uniform'}],\n",
    "                 'KNN2':[KNeighborsClassifier, {'n_neighbors':3,'weights':'uniform'}],\n",
    "                 'KNN3':[KNeighborsClassifier, {'n_neighbors':5,'weights':'uniform'}],\n",
    "                 'KNN4':[KNeighborsClassifier, {'n_neighbors':7,'weights':'uniform'}],\n",
    "                 'KNN5':[KNeighborsClassifier, {'n_neighbors':10,'weights':'uniform'}],\n",
    "                 'KNN6':[KNeighborsClassifier, {'n_neighbors':20,'weights':'uniform'}],\n",
    "                }\n",
    "output = teste_esperto(dicio_softmax, plot=False)\n",
    "\n",
    "# Plotando os erros\n",
    "fig, ax = plt.subplots(nrows=1, ncols=2, figsize=(10,5))\n",
    "ax[0].bar(output[:,0], output[:,1].astype(float), alpha=1)\n",
    "ax[1].bar(output[:,0], output[:,2].astype(float), alpha=1)"
   ]
  },
  {
   "cell_type": "markdown",
   "id": "a1fcb88a",
   "metadata": {},
   "source": [
    "Parece que 3 vizinhos é o limite pra termos um ótimo com os pesos uniformes (o KNN normal). Vamos testar em torno desse valor a opção de ponderarmos pela distância."
   ]
  },
  {
   "cell_type": "code",
   "execution_count": 40,
   "id": "2081f645",
   "metadata": {},
   "outputs": [
    {
     "name": "stdout",
     "output_type": "stream",
     "text": [
      "Testando modelo: KNN1\n",
      "    Train score: 1.0\n",
      "    Test score: 0.9929411764705882\n",
      "\n",
      "    Adjustment took 0:00:00.001000\n",
      "\n",
      "Testando modelo: KNN2\n",
      "    Train score: 1.0\n",
      "    Test score: 0.9952941176470588\n",
      "\n",
      "    Adjustment took 0:00:00.001995\n",
      "\n",
      "Testando modelo: KNN3\n",
      "    Train score: 0.9905882352941177\n",
      "    Test score: 0.9905882352941177\n",
      "\n",
      "    Adjustment took 0:00:00.001996\n",
      "\n",
      "Testando modelo: KNN4\n",
      "    Train score: 1.0\n",
      "    Test score: 0.9929411764705882\n",
      "\n",
      "    Adjustment took 0:00:00.000974\n",
      "\n",
      "Testando modelo: KNN5\n",
      "    Train score: 1.0\n",
      "    Test score: 0.9952941176470588\n",
      "\n",
      "    Adjustment took 0:00:00.000991\n",
      "\n",
      "Testando modelo: KNN6\n",
      "    Train score: 1.0\n",
      "    Test score: 0.9929411764705882\n",
      "\n",
      "    Adjustment took 0:00:00.000997\n",
      "\n",
      "Testando modelo: KNN7\n",
      "    Train score: 1.0\n",
      "    Test score: 0.9835294117647059\n",
      "\n",
      "    Adjustment took 0:00:00.000999\n",
      "\n"
     ]
    },
    {
     "data": {
      "text/plain": [
       "<BarContainer object of 7 artists>"
      ]
     },
     "execution_count": 40,
     "metadata": {},
     "output_type": "execute_result"
    },
    {
     "data": {
      "image/png": "[encoded data removed]",
      "text/plain": [
       "<Figure size 720x360 with 2 Axes>"
      ]
     },
     "metadata": {
      "needs_background": "light"
     },
     "output_type": "display_data"
    }
   ],
   "source": [
    "# Teste 2 - Testando o weight\n",
    "dicio_softmax = {'KNN1':[KNeighborsClassifier, {'n_neighbors':1,'weights':'uniform'}],\n",
    "                 'KNN2':[KNeighborsClassifier, {'n_neighbors':3,'weights':'uniform'}],\n",
    "                 'KNN3':[KNeighborsClassifier, {'n_neighbors':5,'weights':'uniform'}],\n",
    "                 'KNN4':[KNeighborsClassifier, {'n_neighbors':1,'weights':'distance'}],\n",
    "                 'KNN5':[KNeighborsClassifier, {'n_neighbors':3,'weights':'distance'}],\n",
    "                 'KNN6':[KNeighborsClassifier, {'n_neighbors':5,'weights':'distance'}],\n",
    "                 'KNN7':[KNeighborsClassifier, {'n_neighbors':10,'weights':'distance'}],\n",
    "                }\n",
    "output = teste_esperto(dicio_softmax, plot=False)\n",
    "\n",
    "# Plotando os erros\n",
    "fig, ax = plt.subplots(nrows=1, ncols=2, figsize=(10,5))\n",
    "ax[0].bar(output[:,0], output[:,1].astype(float), alpha=1)\n",
    "ax[1].bar(output[:,0], output[:,2].astype(float), alpha=1)"
   ]
  },
  {
   "cell_type": "code",
   "execution_count": 41,
   "id": "11821b8b",
   "metadata": {},
   "outputs": [
    {
     "name": "stdout",
     "output_type": "stream",
     "text": [
      "Testando modelo: KNN1\n",
      "    Train score: 1.0\n",
      "    Test score: 0.9952941176470588\n",
      "\n",
      "    Adjustment took 0:00:00.000997\n",
      "\n"
     ]
    },
    {
     "data": {
      "text/plain": [
       "array([['KNN1', '1.0', '0.9952941176470588']], dtype='<U32')"
      ]
     },
     "execution_count": 41,
     "metadata": {},
     "output_type": "execute_result"
    },
    {
     "data": {
      "image/png": "[encoded data removed]",
      "text/plain": [
       "<Figure size 432x288 with 2 Axes>"
      ]
     },
     "metadata": {
      "needs_background": "light"
     },
     "output_type": "display_data"
    }
   ],
   "source": [
    "dicio_softmax = {'KNN1':[KNeighborsClassifier, {'n_neighbors':3,'weights':'uniform'}]}\n",
    "teste_esperto(dicio_softmax)"
   ]
  },
  {
   "cell_type": "markdown",
   "id": "24580435",
   "metadata": {},
   "source": [
    "Conclusões com o KNN:\n",
    "\n",
    "* Pra 50% de conjunto de treino, o resultado não é tão bom em score\n",
    "* Usar a distância pra ponderar é legal se quiser usar mais valores, mas não é tão impactante nesse caso, onde o ótimo são poucos vizinhos\n",
    "* Pra esse conjunto, tá com um desempenho legal"
   ]
  },
  {
   "cell_type": "markdown",
   "id": "73622c3d",
   "metadata": {},
   "source": [
    "## Passo 4 - Comparando os melhores modelos (segundo a avaliação atual)"
   ]
  },
  {
   "cell_type": "code",
   "execution_count": 42,
   "id": "e03da8b1",
   "metadata": {},
   "outputs": [
    {
     "name": "stdout",
     "output_type": "stream",
     "text": [
      "Testando modelo: KNN1\n",
      "    Train score: 1.0\n",
      "    Test score: 0.9952941176470588\n",
      "\n",
      "    Adjustment took 0:00:00.000973\n",
      "\n",
      "Testando modelo: SVM1\n",
      "    Train score: 1.0\n",
      "    Test score: 0.9976470588235294\n",
      "\n",
      "    Adjustment took 0:00:00.006931\n",
      "\n",
      "Testando modelo: SoftMax1\n",
      "    Train score: 1.0\n",
      "    Test score: 0.9976470588235294\n",
      "\n",
      "    Adjustment took 0:00:01.027909\n",
      "\n"
     ]
    },
    {
     "data": {
      "text/plain": [
       "<BarContainer object of 3 artists>"
      ]
     },
     "execution_count": 42,
     "metadata": {},
     "output_type": "execute_result"
    },
    {
     "data": {
      "image/png": "[encoded data removed]",
      "text/plain": [
       "<Figure size 432x288 with 2 Axes>"
      ]
     },
     "metadata": {
      "needs_background": "light"
     },
     "output_type": "display_data"
    },
    {
     "data": {
      "image/png": "[encoded data removed]",
      "text/plain": [
       "<Figure size 432x288 with 2 Axes>"
      ]
     },
     "metadata": {
      "needs_background": "light"
     },
     "output_type": "display_data"
    },
    {
     "data": {
      "image/png": "[encoded data removed]",
      "text/plain": [
       "<Figure size 432x288 with 2 Axes>"
      ]
     },
     "metadata": {
      "needs_background": "light"
     },
     "output_type": "display_data"
    },
    {
     "data": {
      "image/png": "[encoded data removed]",
      "text/plain": [
       "<Figure size 720x360 with 2 Axes>"
      ]
     },
     "metadata": {
      "needs_background": "light"
     },
     "output_type": "display_data"
    }
   ],
   "source": [
    "dicio_softmax = {'KNN1':[KNeighborsClassifier, {'n_neighbors':3,'weights':'uniform'}],\n",
    "                 'SVM1':[SVC, {'kernel':'linear', 'C':1, 'random_state':37, 'max_iter':-1}],\n",
    "                 'SoftMax1':[LogisticRegression, {'penalty': 'none','multi_class':'multinomial', 'random_state':37, 'max_iter':5000, 'solver':'saga'}]\n",
    "                }\n",
    "output = teste_esperto(dicio_softmax, plot=True)\n",
    "\n",
    "# Plotando os erros\n",
    "fig, ax = plt.subplots(nrows=1, ncols=2, figsize=(10,5))\n",
    "ax[0].bar(output[:,0], output[:,1].astype(float), alpha=1)\n",
    "ax[1].bar(output[:,0], output[:,2].astype(float), alpha=1)"
   ]
  },
  {
   "cell_type": "markdown",
   "id": "9c95aa6d",
   "metadata": {},
   "source": [
    "## Conclusões"
   ]
  },
  {
   "cell_type": "markdown",
   "id": "6d399912",
   "metadata": {},
   "source": [
    "* O problema parece responder bem a parametrizações lineares\n",
    "* Pra 50% de teste, o KNN tem um desempenho bom\n",
    "* Pro nosso caso, o SoftMax e o SVM tiverem o mesmo desempenho (inclusive com a mesma matriz de confusão), mas o SVM foi melhor em performence"
   ]
  }
 ],
 "metadata": {
  "kernelspec": {
   "display_name": "Python 3 (ipykernel)",
   "language": "python",
   "name": "python3"
  },
  "language_info": {
   "codemirror_mode": {
    "name": "ipython",
    "version": 3
   },
   "file_extension": ".py",
   "mimetype": "text/x-python",
   "name": "python",
   "nbconvert_exporter": "python",
   "pygments_lexer": "ipython3",
   "version": "3.9.7"
  }
 },
 "nbformat": 4,
 "nbformat_minor": 5
}
