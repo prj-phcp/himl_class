{
 "cells": [
  {
   "cell_type": "markdown",
   "id": "6d1fa12f",
   "metadata": {},
   "source": [
    "# Atividade 07 - Redes Neurais Artificiais\n",
    "\n",
    "Aluno: Pedro Henrique Cardoso Paulo<br>\n",
    "Disciplina: HIML<br>\n",
    "Professor: Helon"
   ]
  },
  {
   "cell_type": "markdown",
   "id": "4a5281d8",
   "metadata": {},
   "source": [
    "Nessa atividade paritremos da atividade 03 para testarmos também redes neurais com tensorflow e keras"
   ]
  },
  {
   "cell_type": "markdown",
   "id": "c5e011a0",
   "metadata": {},
   "source": [
    "## Passo 0 - Importando bibliotecas"
   ]
  },
  {
   "cell_type": "code",
   "execution_count": 1,
   "id": "d7bf37a3",
   "metadata": {},
   "outputs": [
    {
     "name": "stderr",
     "output_type": "stream",
     "text": [
      "2022-05-09 16:19:17.753546: W tensorflow/stream_executor/platform/default/dso_loader.cc:64] Could not load dynamic library 'libcudart.so.11.0'; dlerror: libcudart.so.11.0: cannot open shared object file: No such file or directory\n",
      "2022-05-09 16:19:17.754465: I tensorflow/stream_executor/cuda/cudart_stub.cc:29] Ignore above cudart dlerror if you do not have a GPU set up on your machine.\n"
     ]
    }
   ],
   "source": [
    "# Pacotes padrao\n",
    "import numpy as np\n",
    "import pandas as pd\n",
    "from os import getcwd\n",
    "from os.path import join \n",
    "import matplotlib.pyplot as plt\n",
    "import pickle\n",
    "from datetime import datetime\n",
    "from scipy import stats\n",
    "import warnings\n",
    "import json\n",
    "\n",
    "# Normalizadores\n",
    "from sklearn.preprocessing import MinMaxScaler, StandardScaler\n",
    "\n",
    "# Reducao de dimensionalidade\n",
    "from sklearn.decomposition import PCA\n",
    "\n",
    "# Resampling\n",
    "from sklearn.model_selection import train_test_split, RepeatedKFold, RandomizedSearchCV\n",
    "\n",
    "#Pipeline\n",
    "from sklearn.pipeline import Pipeline\n",
    "\n",
    "# Modelos\n",
    "from sklearn.linear_model import LogisticRegression\n",
    "from sklearn.svm import SVC\n",
    "from sklearn.neighbors import KNeighborsClassifier\n",
    "\n",
    "#Tensorflow imports\n",
    "import tensorflow as tf\n",
    "from tensorflow import keras\n",
    "\n",
    "# Metricas de erro\n",
    "from sklearn.metrics import ConfusionMatrixDisplay, confusion_matrix\n",
    "\n",
    "\n",
    "rs = 33"
   ]
  },
  {
   "cell_type": "markdown",
   "id": "60a04681",
   "metadata": {},
   "source": [
    "## Passo 1 - Importando os dados"
   ]
  },
  {
   "cell_type": "code",
   "execution_count": 2,
   "id": "9278e85a",
   "metadata": {},
   "outputs": [],
   "source": [
    "fname = join(getcwd(),'data','data_postAR.pkl')\n",
    "with open(fname, 'rb') as file:\n",
    "    X1, y = pickle.load(file)"
   ]
  },
  {
   "cell_type": "code",
   "execution_count": 3,
   "id": "f000c053",
   "metadata": {
    "scrolled": true
   },
   "outputs": [
    {
     "name": "stdout",
     "output_type": "stream",
     "text": [
      "(850, 124) (850,)\n"
     ]
    }
   ],
   "source": [
    "print(X1.shape, y.shape)"
   ]
  },
  {
   "cell_type": "markdown",
   "id": "f7fc73b8",
   "metadata": {},
   "source": [
    "## Passo 2 - Aplicando a reamostragem e Normalizando"
   ]
  },
  {
   "cell_type": "markdown",
   "id": "8a84db58",
   "metadata": {},
   "source": [
    "A reamostragem será feita de modo a garantir um total de 40% das amostras para teste"
   ]
  },
  {
   "cell_type": "code",
   "execution_count": 4,
   "id": "efbfd093",
   "metadata": {},
   "outputs": [],
   "source": [
    "#Pequenas melhorias desde a última rodada\n",
    "# 1 - Usando o parâmetro stratify pra melhorar a segregação das classes\n",
    "# 2 - Estamos usando 40% só pra treino, pra deixar mais interessante o erro\n",
    "size = 0.4\n",
    "X1_tr, X1_te, y_tr, y_te = train_test_split(X1, y, test_size=size, random_state=rs, stratify=y)"
   ]
  },
  {
   "cell_type": "markdown",
   "id": "2088c86b",
   "metadata": {},
   "source": [
    "Para padronizar, vamos por a normalização fora do pipeline (só teremos dados normalizados):"
   ]
  },
  {
   "cell_type": "code",
   "execution_count": 6,
   "id": "74f178cf",
   "metadata": {},
   "outputs": [
    {
     "data": {
      "text/plain": [
       "(510, 124)"
      ]
     },
     "execution_count": 6,
     "metadata": {},
     "output_type": "execute_result"
    }
   ],
   "source": [
    "scaler = MinMaxScaler()\n",
    "X1_tr = scaler.fit_transform(X1_tr)\n",
    "X1_te = scaler.transform(X1_te)\n",
    "X1_tr.shape"
   ]
  },
  {
   "cell_type": "markdown",
   "id": "cc94acf2",
   "metadata": {},
   "source": [
    "Zerando a primeira classe"
   ]
  },
  {
   "cell_type": "code",
   "execution_count": 25,
   "id": "7e4f81fe",
   "metadata": {},
   "outputs": [],
   "source": [
    "y_tr, y_te = y_tr - 1, y_te - 1"
   ]
  },
  {
   "cell_type": "markdown",
   "id": "b1dad8cf",
   "metadata": {},
   "source": [
    "## Passo 3 - Montando o Pipeline da ANN com Keras"
   ]
  },
  {
   "cell_type": "markdown",
   "id": "763b7d1d",
   "metadata": {},
   "source": [
    "### 3.1 - Montando rede básica"
   ]
  },
  {
   "cell_type": "markdown",
   "id": "58e1a8b6",
   "metadata": {},
   "source": [
    "Montar uma rede neural com keras pode ser feito usando programação de alto nível. Começaremos usando uma rede neural com apenas uma Hidden layer de 10 neurônios"
   ]
  },
  {
   "cell_type": "code",
   "execution_count": 57,
   "id": "59e1424a",
   "metadata": {},
   "outputs": [
    {
     "name": "stdout",
     "output_type": "stream",
     "text": [
      "Model: \"sequential_21\"\n",
      "_________________________________________________________________\n",
      " Layer (type)                Output Shape              Param #   \n",
      "=================================================================\n",
      " Hidden_01 (Dense)           (None, 10)                1250      \n",
      "                                                                 \n",
      " Output (Dense)              (None, 17)                187       \n",
      "                                                                 \n",
      "=================================================================\n",
      "Total params: 1,437\n",
      "Trainable params: 1,437\n",
      "Non-trainable params: 0\n",
      "_________________________________________________________________\n"
     ]
    }
   ],
   "source": [
    "model = keras.models.Sequential([\n",
    "keras.layers.InputLayer(input_shape=[124], name='Inputs'), #A primeira layer precisa sempre ter o formato dos inputs declarado\n",
    "                                            #Inputlayer é uma camada de entrada apenas. Não realiza nenhuma operação de prerpoc\n",
    "keras.layers.Dense(10, activation=\"relu\", name='Hidden_01'),\n",
    "keras.layers.Dense(17, activation=\"softmax\", name='Output'), #Camada de outputs. Um neurônio por classe de saída\n",
    "])\n",
    "\n",
    "model.summary()"
   ]
  },
  {
   "cell_type": "markdown",
   "id": "ef3e3bd8",
   "metadata": {},
   "source": [
    "#### Bizuzário do livro do Géron:"
   ]
  },
  {
   "cell_type": "code",
   "execution_count": 13,
   "id": "810f457c",
   "metadata": {},
   "outputs": [
    {
     "data": {
      "text/plain": [
       "[<keras.layers.core.dense.Dense at 0x7fe0081dd550>,\n",
       " <keras.layers.core.dense.Dense at 0x7fdf8072cdc0>]"
      ]
     },
     "execution_count": 13,
     "metadata": {},
     "output_type": "execute_result"
    }
   ],
   "source": [
    "#Pegando as layers\n",
    "model.layers"
   ]
  },
  {
   "cell_type": "code",
   "execution_count": 14,
   "id": "addddcdf",
   "metadata": {},
   "outputs": [
    {
     "data": {
      "text/plain": [
       "<keras.layers.core.dense.Dense at 0x7fe0081dd550>"
      ]
     },
     "execution_count": 14,
     "metadata": {},
     "output_type": "execute_result"
    }
   ],
   "source": [
    "#Pegando layer pelo nome\n",
    "model.get_layer('Hidden_01')"
   ]
  },
  {
   "cell_type": "code",
   "execution_count": 15,
   "id": "052bcd8c",
   "metadata": {},
   "outputs": [],
   "source": [
    "#Pegando parâmetros das layers\n",
    "weights, biases = model.get_layer('Hidden_01').get_weights() #da pra setar com o set!"
   ]
  },
  {
   "cell_type": "code",
   "execution_count": 16,
   "id": "79b6c068",
   "metadata": {},
   "outputs": [
    {
     "data": {
      "text/plain": [
       "array([[-0.14009479, -0.06635055, -0.03019539, ..., -0.20580912,\n",
       "         0.0221246 ,  0.06328793],\n",
       "       [-0.15776868, -0.09474724, -0.07826428, ..., -0.12612174,\n",
       "        -0.03926997, -0.05747585],\n",
       "       [ 0.08257438,  0.03192608, -0.10738739, ..., -0.16887121,\n",
       "         0.14020841, -0.18882939],\n",
       "       ...,\n",
       "       [-0.17834042, -0.09108505, -0.14222658, ...,  0.04848702,\n",
       "         0.11135848,  0.21040644],\n",
       "       [-0.16779819, -0.05593178,  0.02962837, ...,  0.15967847,\n",
       "        -0.14950815, -0.1764892 ],\n",
       "       [-0.15674585,  0.19366373,  0.10447691, ..., -0.11170357,\n",
       "        -0.09364111, -0.00579174]], dtype=float32)"
      ]
     },
     "execution_count": 16,
     "metadata": {},
     "output_type": "execute_result"
    }
   ],
   "source": [
    "weights #aleatoriamente inicializados"
   ]
  },
  {
   "cell_type": "code",
   "execution_count": 17,
   "id": "e074586d",
   "metadata": {},
   "outputs": [
    {
     "data": {
      "text/plain": [
       "array([0., 0., 0., 0., 0., 0., 0., 0., 0., 0.], dtype=float32)"
      ]
     },
     "execution_count": 17,
     "metadata": {},
     "output_type": "execute_result"
    }
   ],
   "source": [
    "biases #inicializados com 0"
   ]
  },
  {
   "cell_type": "markdown",
   "id": "d8edac6e",
   "metadata": {},
   "source": [
    "#### Compilando o modelo"
   ]
  },
  {
   "cell_type": "code",
   "execution_count": 35,
   "id": "364d257c",
   "metadata": {},
   "outputs": [],
   "source": [
    "model.compile(loss=\"sparse_categorical_crossentropy\",\n",
    "              optimizer=\"sgd\",\n",
    "              metrics=[\"accuracy\"])"
   ]
  },
  {
   "cell_type": "markdown",
   "id": "ba64d246",
   "metadata": {},
   "source": [
    "#### Executando o fit:"
   ]
  },
  {
   "cell_type": "code",
   "execution_count": 36,
   "id": "a684205e",
   "metadata": {},
   "outputs": [
    {
     "name": "stdout",
     "output_type": "stream",
     "text": [
      "Epoch 1/10\n",
      "16/16 [==============================] - 0s 2ms/step - loss: 2.9526 - accuracy: 0.0569\n",
      "Epoch 2/10\n",
      "16/16 [==============================] - 0s 3ms/step - loss: 2.8917 - accuracy: 0.0588\n",
      "Epoch 3/10\n",
      "16/16 [==============================] - 0s 2ms/step - loss: 2.8517 - accuracy: 0.0686\n",
      "Epoch 4/10\n",
      "16/16 [==============================] - 0s 2ms/step - loss: 2.8227 - accuracy: 0.0765\n",
      "Epoch 5/10\n",
      "16/16 [==============================] - 0s 2ms/step - loss: 2.8025 - accuracy: 0.0667\n",
      "Epoch 6/10\n",
      "16/16 [==============================] - 0s 2ms/step - loss: 2.7865 - accuracy: 0.0824\n",
      "Epoch 7/10\n",
      "16/16 [==============================] - 0s 2ms/step - loss: 2.7724 - accuracy: 0.0941\n",
      "Epoch 8/10\n",
      "16/16 [==============================] - 0s 1ms/step - loss: 2.7588 - accuracy: 0.1020\n",
      "Epoch 9/10\n",
      "16/16 [==============================] - 0s 1ms/step - loss: 2.7459 - accuracy: 0.1137\n",
      "Epoch 10/10\n",
      "16/16 [==============================] - 0s 1ms/step - loss: 2.7332 - accuracy: 0.1216\n"
     ]
    },
    {
     "data": {
      "text/plain": [
       "<keras.callbacks.History at 0x7fdf603fbf40>"
      ]
     },
     "execution_count": 36,
     "metadata": {},
     "output_type": "execute_result"
    }
   ],
   "source": [
    "model.fit(X1_tr, y_tr, epochs=10)#, validation_split=0.05)"
   ]
  },
  {
   "cell_type": "markdown",
   "id": "1038b2f9",
   "metadata": {},
   "source": [
    "#### Dá pra ver que a acurácia não ficou grande coisa. Vamos tentar melhorar aumentando o número de epochs:"
   ]
  },
  {
   "cell_type": "code",
   "execution_count": 58,
   "id": "a25cd3d6",
   "metadata": {},
   "outputs": [
    {
     "name": "stdout",
     "output_type": "stream",
     "text": [
      "Epoch 1/150\n",
      "16/16 [==============================] - 1s 33ms/step - loss: 2.9514 - accuracy: 0.1033 - val_loss: 3.0062 - val_accuracy: 0.0769\n",
      "Epoch 2/150\n",
      "16/16 [==============================] - 0s 5ms/step - loss: 2.8751 - accuracy: 0.0930 - val_loss: 2.9067 - val_accuracy: 0.0385\n",
      "Epoch 3/150\n",
      "16/16 [==============================] - 0s 6ms/step - loss: 2.8326 - accuracy: 0.0930 - val_loss: 2.8646 - val_accuracy: 0.1538\n",
      "Epoch 4/150\n",
      "16/16 [==============================] - 0s 3ms/step - loss: 2.8118 - accuracy: 0.1405 - val_loss: 2.8434 - val_accuracy: 0.1538\n",
      "Epoch 5/150\n",
      "16/16 [==============================] - 0s 5ms/step - loss: 2.7992 - accuracy: 0.1384 - val_loss: 2.8307 - val_accuracy: 0.1538\n",
      "Epoch 6/150\n",
      "16/16 [==============================] - 0s 6ms/step - loss: 2.7893 - accuracy: 0.1405 - val_loss: 2.8294 - val_accuracy: 0.1923\n",
      "Epoch 7/150\n",
      "16/16 [==============================] - 0s 8ms/step - loss: 2.7811 - accuracy: 0.1612 - val_loss: 2.8214 - val_accuracy: 0.1923\n",
      "Epoch 8/150\n",
      "16/16 [==============================] - 0s 8ms/step - loss: 2.7714 - accuracy: 0.1570 - val_loss: 2.8102 - val_accuracy: 0.1538\n",
      "Epoch 9/150\n",
      "16/16 [==============================] - 0s 7ms/step - loss: 2.7629 - accuracy: 0.1426 - val_loss: 2.8038 - val_accuracy: 0.1538\n",
      "Epoch 10/150\n",
      "16/16 [==============================] - 0s 4ms/step - loss: 2.7536 - accuracy: 0.1426 - val_loss: 2.7957 - val_accuracy: 0.1923\n",
      "Epoch 11/150\n",
      "16/16 [==============================] - 0s 7ms/step - loss: 2.7456 - accuracy: 0.1550 - val_loss: 2.7897 - val_accuracy: 0.1538\n",
      "Epoch 12/150\n",
      "16/16 [==============================] - 0s 8ms/step - loss: 2.7375 - accuracy: 0.1426 - val_loss: 2.7846 - val_accuracy: 0.1538\n",
      "Epoch 13/150\n",
      "16/16 [==============================] - 0s 10ms/step - loss: 2.7281 - accuracy: 0.1488 - val_loss: 2.7701 - val_accuracy: 0.1538\n",
      "Epoch 14/150\n",
      "16/16 [==============================] - 0s 3ms/step - loss: 2.7191 - accuracy: 0.1446 - val_loss: 2.7576 - val_accuracy: 0.1923\n",
      "Epoch 15/150\n",
      "16/16 [==============================] - 0s 4ms/step - loss: 2.7099 - accuracy: 0.1653 - val_loss: 2.7563 - val_accuracy: 0.1154\n",
      "Epoch 16/150\n",
      "16/16 [==============================] - 0s 3ms/step - loss: 2.6998 - accuracy: 0.1488 - val_loss: 2.7439 - val_accuracy: 0.1538\n",
      "Epoch 17/150\n",
      "16/16 [==============================] - 0s 3ms/step - loss: 2.6906 - accuracy: 0.1839 - val_loss: 2.7347 - val_accuracy: 0.2308\n",
      "Epoch 18/150\n",
      "16/16 [==============================] - 0s 3ms/step - loss: 2.6806 - accuracy: 0.2004 - val_loss: 2.7284 - val_accuracy: 0.1923\n",
      "Epoch 19/150\n",
      "16/16 [==============================] - 0s 4ms/step - loss: 2.6702 - accuracy: 0.2107 - val_loss: 2.7269 - val_accuracy: 0.1538\n",
      "Epoch 20/150\n",
      "16/16 [==============================] - 0s 5ms/step - loss: 2.6597 - accuracy: 0.2066 - val_loss: 2.7252 - val_accuracy: 0.1154\n",
      "Epoch 21/150\n",
      "16/16 [==============================] - 0s 3ms/step - loss: 2.6492 - accuracy: 0.1901 - val_loss: 2.7026 - val_accuracy: 0.2308\n",
      "Epoch 22/150\n",
      "16/16 [==============================] - 0s 5ms/step - loss: 2.6385 - accuracy: 0.2087 - val_loss: 2.6904 - val_accuracy: 0.1923\n",
      "Epoch 23/150\n",
      "16/16 [==============================] - 0s 6ms/step - loss: 2.6285 - accuracy: 0.2169 - val_loss: 2.6842 - val_accuracy: 0.2308\n",
      "Epoch 24/150\n",
      "16/16 [==============================] - 0s 6ms/step - loss: 2.6177 - accuracy: 0.2045 - val_loss: 2.6704 - val_accuracy: 0.2308\n",
      "Epoch 25/150\n",
      "16/16 [==============================] - 0s 3ms/step - loss: 2.6080 - accuracy: 0.2107 - val_loss: 2.6564 - val_accuracy: 0.2308\n",
      "Epoch 26/150\n",
      "16/16 [==============================] - 0s 6ms/step - loss: 2.5962 - accuracy: 0.2211 - val_loss: 2.6544 - val_accuracy: 0.2308\n",
      "Epoch 27/150\n",
      "16/16 [==============================] - 0s 6ms/step - loss: 2.5849 - accuracy: 0.2335 - val_loss: 2.6566 - val_accuracy: 0.1538\n",
      "Epoch 28/150\n",
      "16/16 [==============================] - 0s 6ms/step - loss: 2.5737 - accuracy: 0.2273 - val_loss: 2.6258 - val_accuracy: 0.2308\n",
      "Epoch 29/150\n",
      "16/16 [==============================] - 0s 3ms/step - loss: 2.5625 - accuracy: 0.2479 - val_loss: 2.6163 - val_accuracy: 0.2308\n",
      "Epoch 30/150\n",
      "16/16 [==============================] - 0s 4ms/step - loss: 2.5508 - accuracy: 0.2500 - val_loss: 2.5910 - val_accuracy: 0.2692\n",
      "Epoch 31/150\n",
      "16/16 [==============================] - 0s 6ms/step - loss: 2.5407 - accuracy: 0.2686 - val_loss: 2.5998 - val_accuracy: 0.2692\n",
      "Epoch 32/150\n",
      "16/16 [==============================] - 0s 6ms/step - loss: 2.5290 - accuracy: 0.2645 - val_loss: 2.5772 - val_accuracy: 0.2692\n",
      "Epoch 33/150\n",
      "16/16 [==============================] - 0s 3ms/step - loss: 2.5178 - accuracy: 0.2727 - val_loss: 2.5753 - val_accuracy: 0.2308\n",
      "Epoch 34/150\n",
      "16/16 [==============================] - 0s 4ms/step - loss: 2.5056 - accuracy: 0.2500 - val_loss: 2.5620 - val_accuracy: 0.2692\n",
      "Epoch 35/150\n",
      "16/16 [==============================] - 0s 6ms/step - loss: 2.4940 - accuracy: 0.2831 - val_loss: 2.5484 - val_accuracy: 0.2692\n",
      "Epoch 36/150\n",
      "16/16 [==============================] - 0s 6ms/step - loss: 2.4826 - accuracy: 0.2934 - val_loss: 2.5254 - val_accuracy: 0.2692\n",
      "Epoch 37/150\n",
      "16/16 [==============================] - 0s 6ms/step - loss: 2.4701 - accuracy: 0.2955 - val_loss: 2.5270 - val_accuracy: 0.2308\n",
      "Epoch 38/150\n",
      "16/16 [==============================] - 0s 11ms/step - loss: 2.4583 - accuracy: 0.2851 - val_loss: 2.5031 - val_accuracy: 0.2692\n",
      "Epoch 39/150\n",
      "16/16 [==============================] - 0s 6ms/step - loss: 2.4449 - accuracy: 0.2872 - val_loss: 2.4772 - val_accuracy: 0.2308\n",
      "Epoch 40/150\n",
      "16/16 [==============================] - 0s 6ms/step - loss: 2.4328 - accuracy: 0.2955 - val_loss: 2.4749 - val_accuracy: 0.2308\n",
      "Epoch 41/150\n",
      "16/16 [==============================] - 0s 3ms/step - loss: 2.4208 - accuracy: 0.3099 - val_loss: 2.4670 - val_accuracy: 0.2692\n",
      "Epoch 42/150\n",
      "16/16 [==============================] - 0s 5ms/step - loss: 2.4097 - accuracy: 0.3037 - val_loss: 2.4452 - val_accuracy: 0.3462\n",
      "Epoch 43/150\n",
      "16/16 [==============================] - 0s 6ms/step - loss: 2.3965 - accuracy: 0.3161 - val_loss: 2.4257 - val_accuracy: 0.3462\n",
      "Epoch 44/150\n",
      "16/16 [==============================] - 0s 6ms/step - loss: 2.3841 - accuracy: 0.3306 - val_loss: 2.4189 - val_accuracy: 0.3462\n",
      "Epoch 45/150\n",
      "16/16 [==============================] - 0s 6ms/step - loss: 2.3705 - accuracy: 0.3182 - val_loss: 2.4001 - val_accuracy: 0.4231\n",
      "Epoch 46/150\n",
      "16/16 [==============================] - 0s 6ms/step - loss: 2.3585 - accuracy: 0.3388 - val_loss: 2.3943 - val_accuracy: 0.3846\n",
      "Epoch 47/150\n",
      "16/16 [==============================] - 0s 6ms/step - loss: 2.3452 - accuracy: 0.3388 - val_loss: 2.3809 - val_accuracy: 0.3462\n",
      "Epoch 48/150\n",
      "16/16 [==============================] - 0s 5ms/step - loss: 2.3324 - accuracy: 0.3202 - val_loss: 2.3626 - val_accuracy: 0.3846\n",
      "Epoch 49/150\n",
      "16/16 [==============================] - 0s 4ms/step - loss: 2.3205 - accuracy: 0.3347 - val_loss: 2.3437 - val_accuracy: 0.3846\n",
      "Epoch 50/150\n",
      "16/16 [==============================] - 0s 5ms/step - loss: 2.3063 - accuracy: 0.3223 - val_loss: 2.3249 - val_accuracy: 0.3846\n",
      "Epoch 51/150\n",
      "16/16 [==============================] - 0s 6ms/step - loss: 2.2935 - accuracy: 0.3430 - val_loss: 2.3087 - val_accuracy: 0.4231\n",
      "Epoch 52/150\n",
      "16/16 [==============================] - 0s 6ms/step - loss: 2.2809 - accuracy: 0.3636 - val_loss: 2.3023 - val_accuracy: 0.4615\n",
      "Epoch 53/150\n",
      "16/16 [==============================] - 0s 5ms/step - loss: 2.2682 - accuracy: 0.3574 - val_loss: 2.2828 - val_accuracy: 0.4231\n",
      "Epoch 54/150\n",
      "16/16 [==============================] - 0s 3ms/step - loss: 2.2556 - accuracy: 0.3512 - val_loss: 2.2720 - val_accuracy: 0.4615\n",
      "Epoch 55/150\n",
      "16/16 [==============================] - 0s 5ms/step - loss: 2.2426 - accuracy: 0.3781 - val_loss: 2.2510 - val_accuracy: 0.5000\n",
      "Epoch 56/150\n",
      "16/16 [==============================] - 0s 6ms/step - loss: 2.2297 - accuracy: 0.4091 - val_loss: 2.2371 - val_accuracy: 0.4615\n",
      "Epoch 57/150\n",
      "16/16 [==============================] - 0s 6ms/step - loss: 2.2167 - accuracy: 0.3967 - val_loss: 2.2209 - val_accuracy: 0.5000\n",
      "Epoch 58/150\n",
      "16/16 [==============================] - 0s 6ms/step - loss: 2.2037 - accuracy: 0.4194 - val_loss: 2.2188 - val_accuracy: 0.4615\n"
     ]
    },
    {
     "name": "stdout",
     "output_type": "stream",
     "text": [
      "Epoch 59/150\n",
      "16/16 [==============================] - 0s 10ms/step - loss: 2.1911 - accuracy: 0.4091 - val_loss: 2.1967 - val_accuracy: 0.5000\n",
      "Epoch 60/150\n",
      "16/16 [==============================] - 0s 8ms/step - loss: 2.1774 - accuracy: 0.4318 - val_loss: 2.1865 - val_accuracy: 0.4615\n",
      "Epoch 61/150\n",
      "16/16 [==============================] - 0s 9ms/step - loss: 2.1657 - accuracy: 0.4525 - val_loss: 2.1710 - val_accuracy: 0.5000\n",
      "Epoch 62/150\n",
      "16/16 [==============================] - 0s 3ms/step - loss: 2.1523 - accuracy: 0.4628 - val_loss: 2.1495 - val_accuracy: 0.5000\n",
      "Epoch 63/150\n",
      "16/16 [==============================] - 0s 6ms/step - loss: 2.1392 - accuracy: 0.4525 - val_loss: 2.1418 - val_accuracy: 0.4615\n",
      "Epoch 64/150\n",
      "16/16 [==============================] - 0s 5ms/step - loss: 2.1256 - accuracy: 0.4731 - val_loss: 2.1204 - val_accuracy: 0.5000\n",
      "Epoch 65/150\n",
      "16/16 [==============================] - 0s 3ms/step - loss: 2.1136 - accuracy: 0.4628 - val_loss: 2.1133 - val_accuracy: 0.4615\n",
      "Epoch 66/150\n",
      "16/16 [==============================] - 0s 5ms/step - loss: 2.0997 - accuracy: 0.4814 - val_loss: 2.0997 - val_accuracy: 0.4615\n",
      "Epoch 67/150\n",
      "16/16 [==============================] - 0s 6ms/step - loss: 2.0874 - accuracy: 0.4711 - val_loss: 2.0766 - val_accuracy: 0.5000\n",
      "Epoch 68/150\n",
      "16/16 [==============================] - 0s 5ms/step - loss: 2.0744 - accuracy: 0.4690 - val_loss: 2.0792 - val_accuracy: 0.4615\n",
      "Epoch 69/150\n",
      "16/16 [==============================] - 0s 6ms/step - loss: 2.0628 - accuracy: 0.4793 - val_loss: 2.0584 - val_accuracy: 0.5000\n",
      "Epoch 70/150\n",
      "16/16 [==============================] - 0s 6ms/step - loss: 2.0501 - accuracy: 0.4814 - val_loss: 2.0355 - val_accuracy: 0.5000\n",
      "Epoch 71/150\n",
      "16/16 [==============================] - 0s 6ms/step - loss: 2.0369 - accuracy: 0.4917 - val_loss: 2.0199 - val_accuracy: 0.5385\n",
      "Epoch 72/150\n",
      "16/16 [==============================] - 0s 7ms/step - loss: 2.0241 - accuracy: 0.5124 - val_loss: 2.0067 - val_accuracy: 0.5769\n",
      "Epoch 73/150\n",
      "16/16 [==============================] - 0s 9ms/step - loss: 2.0105 - accuracy: 0.5145 - val_loss: 1.9953 - val_accuracy: 0.5769\n",
      "Epoch 74/150\n",
      "16/16 [==============================] - 0s 13ms/step - loss: 1.9977 - accuracy: 0.5124 - val_loss: 1.9749 - val_accuracy: 0.6154\n",
      "Epoch 75/150\n",
      "16/16 [==============================] - 0s 3ms/step - loss: 1.9852 - accuracy: 0.5227 - val_loss: 1.9649 - val_accuracy: 0.5769\n",
      "Epoch 76/150\n",
      "16/16 [==============================] - 0s 5ms/step - loss: 1.9721 - accuracy: 0.5269 - val_loss: 1.9568 - val_accuracy: 0.5385\n",
      "Epoch 77/150\n",
      "16/16 [==============================] - 0s 6ms/step - loss: 1.9606 - accuracy: 0.5207 - val_loss: 1.9371 - val_accuracy: 0.6154\n",
      "Epoch 78/150\n",
      "16/16 [==============================] - 0s 7ms/step - loss: 1.9474 - accuracy: 0.5455 - val_loss: 1.9134 - val_accuracy: 0.6154\n",
      "Epoch 79/150\n",
      "16/16 [==============================] - 0s 5ms/step - loss: 1.9350 - accuracy: 0.5558 - val_loss: 1.8975 - val_accuracy: 0.6538\n",
      "Epoch 80/150\n",
      "16/16 [==============================] - 0s 6ms/step - loss: 1.9224 - accuracy: 0.5764 - val_loss: 1.8883 - val_accuracy: 0.6154\n",
      "Epoch 81/150\n",
      "16/16 [==============================] - 0s 7ms/step - loss: 1.9093 - accuracy: 0.5702 - val_loss: 1.8744 - val_accuracy: 0.6154\n",
      "Epoch 82/150\n",
      "16/16 [==============================] - 0s 4ms/step - loss: 1.8969 - accuracy: 0.5723 - val_loss: 1.8643 - val_accuracy: 0.6154\n",
      "Epoch 83/150\n",
      "16/16 [==============================] - 0s 6ms/step - loss: 1.8844 - accuracy: 0.5826 - val_loss: 1.8614 - val_accuracy: 0.6154\n",
      "Epoch 84/150\n",
      "16/16 [==============================] - 0s 7ms/step - loss: 1.8728 - accuracy: 0.5517 - val_loss: 1.8354 - val_accuracy: 0.6538\n",
      "Epoch 85/150\n",
      "16/16 [==============================] - 0s 8ms/step - loss: 1.8599 - accuracy: 0.5868 - val_loss: 1.8187 - val_accuracy: 0.6154\n",
      "Epoch 86/150\n",
      "16/16 [==============================] - 0s 5ms/step - loss: 1.8477 - accuracy: 0.5785 - val_loss: 1.8102 - val_accuracy: 0.6154\n",
      "Epoch 87/150\n",
      "16/16 [==============================] - 0s 3ms/step - loss: 1.8356 - accuracy: 0.5744 - val_loss: 1.7918 - val_accuracy: 0.6538\n",
      "Epoch 88/150\n",
      "16/16 [==============================] - 0s 3ms/step - loss: 1.8229 - accuracy: 0.6074 - val_loss: 1.7784 - val_accuracy: 0.6538\n",
      "Epoch 89/150\n",
      "16/16 [==============================] - 0s 3ms/step - loss: 1.8102 - accuracy: 0.6033 - val_loss: 1.7638 - val_accuracy: 0.6538\n",
      "Epoch 90/150\n",
      "16/16 [==============================] - 0s 5ms/step - loss: 1.7989 - accuracy: 0.6136 - val_loss: 1.7492 - val_accuracy: 0.6538\n",
      "Epoch 91/150\n",
      "16/16 [==============================] - 0s 7ms/step - loss: 1.7857 - accuracy: 0.6157 - val_loss: 1.7318 - val_accuracy: 0.6538\n",
      "Epoch 92/150\n",
      "16/16 [==============================] - 0s 6ms/step - loss: 1.7741 - accuracy: 0.6054 - val_loss: 1.7242 - val_accuracy: 0.6538\n",
      "Epoch 93/150\n",
      "16/16 [==============================] - 0s 5ms/step - loss: 1.7619 - accuracy: 0.6095 - val_loss: 1.7112 - val_accuracy: 0.6538\n",
      "Epoch 94/150\n",
      "16/16 [==============================] - 0s 8ms/step - loss: 1.7491 - accuracy: 0.6095 - val_loss: 1.6965 - val_accuracy: 0.6538\n",
      "Epoch 95/150\n",
      "16/16 [==============================] - 0s 6ms/step - loss: 1.7375 - accuracy: 0.6198 - val_loss: 1.6803 - val_accuracy: 0.6538\n",
      "Epoch 96/150\n",
      "16/16 [==============================] - 0s 3ms/step - loss: 1.7253 - accuracy: 0.6095 - val_loss: 1.6732 - val_accuracy: 0.6538\n",
      "Epoch 97/150\n",
      "16/16 [==============================] - 0s 8ms/step - loss: 1.7136 - accuracy: 0.6178 - val_loss: 1.6543 - val_accuracy: 0.6538\n",
      "Epoch 98/150\n",
      "16/16 [==============================] - 0s 9ms/step - loss: 1.7017 - accuracy: 0.6095 - val_loss: 1.6393 - val_accuracy: 0.6538\n",
      "Epoch 99/150\n",
      "16/16 [==============================] - 0s 3ms/step - loss: 1.6899 - accuracy: 0.6054 - val_loss: 1.6337 - val_accuracy: 0.6538\n",
      "Epoch 100/150\n",
      "16/16 [==============================] - 0s 7ms/step - loss: 1.6784 - accuracy: 0.6240 - val_loss: 1.6190 - val_accuracy: 0.6538\n",
      "Epoch 101/150\n",
      "16/16 [==============================] - 0s 15ms/step - loss: 1.6672 - accuracy: 0.6136 - val_loss: 1.6079 - val_accuracy: 0.6538\n",
      "Epoch 102/150\n",
      "16/16 [==============================] - 0s 4ms/step - loss: 1.6558 - accuracy: 0.6240 - val_loss: 1.5927 - val_accuracy: 0.6538\n",
      "Epoch 103/150\n",
      "16/16 [==============================] - 0s 8ms/step - loss: 1.6445 - accuracy: 0.6343 - val_loss: 1.5794 - val_accuracy: 0.6538\n",
      "Epoch 104/150\n",
      "16/16 [==============================] - 0s 12ms/step - loss: 1.6329 - accuracy: 0.5868 - val_loss: 1.5647 - val_accuracy: 0.6154\n",
      "Epoch 105/150\n",
      "16/16 [==============================] - 0s 13ms/step - loss: 1.6212 - accuracy: 0.5826 - val_loss: 1.5547 - val_accuracy: 0.6538\n",
      "Epoch 106/150\n",
      "16/16 [==============================] - 0s 13ms/step - loss: 1.6100 - accuracy: 0.5868 - val_loss: 1.5458 - val_accuracy: 0.6538\n",
      "Epoch 107/150\n",
      "16/16 [==============================] - 0s 5ms/step - loss: 1.5983 - accuracy: 0.6054 - val_loss: 1.5402 - val_accuracy: 0.6538\n",
      "Epoch 108/150\n",
      "16/16 [==============================] - 0s 9ms/step - loss: 1.5880 - accuracy: 0.6054 - val_loss: 1.5294 - val_accuracy: 0.6538\n",
      "Epoch 109/150\n",
      "16/16 [==============================] - 0s 10ms/step - loss: 1.5768 - accuracy: 0.6054 - val_loss: 1.5178 - val_accuracy: 0.6538\n",
      "Epoch 110/150\n",
      "16/16 [==============================] - 0s 11ms/step - loss: 1.5657 - accuracy: 0.6198 - val_loss: 1.5060 - val_accuracy: 0.6154\n",
      "Epoch 111/150\n",
      "16/16 [==============================] - 0s 10ms/step - loss: 1.5546 - accuracy: 0.6178 - val_loss: 1.4918 - val_accuracy: 0.6154\n",
      "Epoch 112/150\n",
      "16/16 [==============================] - 0s 9ms/step - loss: 1.5441 - accuracy: 0.6157 - val_loss: 1.4816 - val_accuracy: 0.6154\n",
      "Epoch 113/150\n",
      "16/16 [==============================] - 0s 6ms/step - loss: 1.5340 - accuracy: 0.6157 - val_loss: 1.4693 - val_accuracy: 0.6154\n",
      "Epoch 114/150\n",
      "16/16 [==============================] - 0s 7ms/step - loss: 1.5233 - accuracy: 0.6178 - val_loss: 1.4591 - val_accuracy: 0.6538\n",
      "Epoch 115/150\n",
      "16/16 [==============================] - 0s 6ms/step - loss: 1.5125 - accuracy: 0.6302 - val_loss: 1.4513 - val_accuracy: 0.6538\n",
      "Epoch 116/150\n"
     ]
    },
    {
     "name": "stdout",
     "output_type": "stream",
     "text": [
      "16/16 [==============================] - 0s 3ms/step - loss: 1.5020 - accuracy: 0.6364 - val_loss: 1.4375 - val_accuracy: 0.6923\n",
      "Epoch 117/150\n",
      "16/16 [==============================] - 0s 5ms/step - loss: 1.4923 - accuracy: 0.6364 - val_loss: 1.4275 - val_accuracy: 0.6923\n",
      "Epoch 118/150\n",
      "16/16 [==============================] - 0s 4ms/step - loss: 1.4826 - accuracy: 0.6384 - val_loss: 1.4152 - val_accuracy: 0.6923\n",
      "Epoch 119/150\n",
      "16/16 [==============================] - 0s 10ms/step - loss: 1.4721 - accuracy: 0.6364 - val_loss: 1.4025 - val_accuracy: 0.6923\n",
      "Epoch 120/150\n",
      "16/16 [==============================] - 0s 10ms/step - loss: 1.4624 - accuracy: 0.6364 - val_loss: 1.3893 - val_accuracy: 0.7308\n",
      "Epoch 121/150\n",
      "16/16 [==============================] - 0s 12ms/step - loss: 1.4521 - accuracy: 0.6446 - val_loss: 1.3822 - val_accuracy: 0.7308\n",
      "Epoch 122/150\n",
      "16/16 [==============================] - 0s 13ms/step - loss: 1.4426 - accuracy: 0.6467 - val_loss: 1.3739 - val_accuracy: 0.7308\n",
      "Epoch 123/150\n",
      "16/16 [==============================] - 0s 10ms/step - loss: 1.4324 - accuracy: 0.6570 - val_loss: 1.3678 - val_accuracy: 0.7308\n",
      "Epoch 124/150\n",
      "16/16 [==============================] - 0s 3ms/step - loss: 1.4233 - accuracy: 0.6612 - val_loss: 1.3587 - val_accuracy: 0.7308\n",
      "Epoch 125/150\n",
      "16/16 [==============================] - 0s 5ms/step - loss: 1.4134 - accuracy: 0.6674 - val_loss: 1.3453 - val_accuracy: 0.7308\n",
      "Epoch 126/150\n",
      "16/16 [==============================] - 0s 8ms/step - loss: 1.4044 - accuracy: 0.6715 - val_loss: 1.3361 - val_accuracy: 0.7308\n",
      "Epoch 127/150\n",
      "16/16 [==============================] - 0s 8ms/step - loss: 1.3955 - accuracy: 0.6736 - val_loss: 1.3243 - val_accuracy: 0.7308\n",
      "Epoch 128/150\n",
      "16/16 [==============================] - 0s 8ms/step - loss: 1.3859 - accuracy: 0.6736 - val_loss: 1.3138 - val_accuracy: 0.7308\n",
      "Epoch 129/150\n",
      "16/16 [==============================] - 0s 8ms/step - loss: 1.3770 - accuracy: 0.6798 - val_loss: 1.3066 - val_accuracy: 0.7308\n",
      "Epoch 130/150\n",
      "16/16 [==============================] - 0s 8ms/step - loss: 1.3681 - accuracy: 0.6818 - val_loss: 1.2989 - val_accuracy: 0.7308\n",
      "Epoch 131/150\n",
      "16/16 [==============================] - 0s 8ms/step - loss: 1.3587 - accuracy: 0.6839 - val_loss: 1.2882 - val_accuracy: 0.7308\n",
      "Epoch 132/150\n",
      "16/16 [==============================] - 0s 3ms/step - loss: 1.3502 - accuracy: 0.6839 - val_loss: 1.2804 - val_accuracy: 0.7308\n",
      "Epoch 133/150\n",
      "16/16 [==============================] - 0s 4ms/step - loss: 1.3424 - accuracy: 0.6777 - val_loss: 1.2725 - val_accuracy: 0.7308\n",
      "Epoch 134/150\n",
      "16/16 [==============================] - 0s 5ms/step - loss: 1.3332 - accuracy: 0.6777 - val_loss: 1.2639 - val_accuracy: 0.7308\n",
      "Epoch 135/150\n",
      "16/16 [==============================] - 0s 5ms/step - loss: 1.3252 - accuracy: 0.6756 - val_loss: 1.2566 - val_accuracy: 0.7308\n",
      "Epoch 136/150\n",
      "16/16 [==============================] - 0s 5ms/step - loss: 1.3164 - accuracy: 0.6818 - val_loss: 1.2499 - val_accuracy: 0.7308\n",
      "Epoch 137/150\n",
      "16/16 [==============================] - 0s 6ms/step - loss: 1.3081 - accuracy: 0.6963 - val_loss: 1.2381 - val_accuracy: 0.7308\n",
      "Epoch 138/150\n",
      "16/16 [==============================] - 0s 6ms/step - loss: 1.3000 - accuracy: 0.6942 - val_loss: 1.2332 - val_accuracy: 0.7308\n",
      "Epoch 139/150\n",
      "16/16 [==============================] - 0s 6ms/step - loss: 1.2917 - accuracy: 0.6942 - val_loss: 1.2252 - val_accuracy: 0.7308\n",
      "Epoch 140/150\n",
      "16/16 [==============================] - 0s 6ms/step - loss: 1.2839 - accuracy: 0.6983 - val_loss: 1.2146 - val_accuracy: 0.7308\n",
      "Epoch 141/150\n",
      "16/16 [==============================] - 0s 6ms/step - loss: 1.2750 - accuracy: 0.7045 - val_loss: 1.2071 - val_accuracy: 0.7308\n",
      "Epoch 142/150\n",
      "16/16 [==============================] - 0s 6ms/step - loss: 1.2669 - accuracy: 0.6983 - val_loss: 1.1990 - val_accuracy: 0.7308\n",
      "Epoch 143/150\n",
      "16/16 [==============================] - 0s 6ms/step - loss: 1.2589 - accuracy: 0.7025 - val_loss: 1.1909 - val_accuracy: 0.7308\n",
      "Epoch 144/150\n",
      "16/16 [==============================] - 0s 6ms/step - loss: 1.2514 - accuracy: 0.7107 - val_loss: 1.1841 - val_accuracy: 0.7308\n",
      "Epoch 145/150\n",
      "16/16 [==============================] - 0s 4ms/step - loss: 1.2433 - accuracy: 0.7087 - val_loss: 1.1757 - val_accuracy: 0.7308\n",
      "Epoch 146/150\n",
      "16/16 [==============================] - 0s 6ms/step - loss: 1.2354 - accuracy: 0.7107 - val_loss: 1.1712 - val_accuracy: 0.7308\n",
      "Epoch 147/150\n",
      "16/16 [==============================] - 0s 3ms/step - loss: 1.2290 - accuracy: 0.7107 - val_loss: 1.1631 - val_accuracy: 0.7308\n",
      "Epoch 148/150\n",
      "16/16 [==============================] - 0s 6ms/step - loss: 1.2206 - accuracy: 0.7107 - val_loss: 1.1546 - val_accuracy: 0.7308\n",
      "Epoch 149/150\n",
      "16/16 [==============================] - 0s 4ms/step - loss: 1.2133 - accuracy: 0.7128 - val_loss: 1.1498 - val_accuracy: 0.7308\n",
      "Epoch 150/150\n",
      "16/16 [==============================] - 0s 6ms/step - loss: 1.2055 - accuracy: 0.7149 - val_loss: 1.1418 - val_accuracy: 0.7308\n"
     ]
    },
    {
     "data": {
      "text/plain": [
       "<keras.callbacks.History at 0x7fdec62bef40>"
      ]
     },
     "execution_count": 58,
     "metadata": {},
     "output_type": "execute_result"
    }
   ],
   "source": [
    "model = keras.models.Sequential([\n",
    "keras.layers.InputLayer(input_shape=[124], name='Inputs'), #A primeira layer precisa sempre ter o formato dos inputs declarado\n",
    "                                            #Inputlayer é uma camada de entrada apenas. Não realiza nenhuma operação de prerpoc\n",
    "keras.layers.Dense(10, activation=\"relu\", name='Hidden_01'),\n",
    "keras.layers.Dense(17, activation=\"softmax\", name='Output'), #Camada de outputs. Um neurônio por classe de saída\n",
    "])\n",
    "\n",
    "model.compile(loss=\"sparse_categorical_crossentropy\",\n",
    "              optimizer=\"sgd\",\n",
    "              metrics=[\"accuracy\"])\n",
    "\n",
    "model.fit(X1_tr, y_tr, epochs=150, validation_split=0.05)\n",
    "\n"
   ]
  },
  {
   "cell_type": "markdown",
   "id": "745615f2",
   "metadata": {},
   "source": [
    "#### Avaliando modelo"
   ]
  },
  {
   "cell_type": "code",
   "execution_count": 70,
   "id": "716a8351",
   "metadata": {},
   "outputs": [
    {
     "name": "stdout",
     "output_type": "stream",
     "text": [
      "11/11 [==============================] - 0s 873us/step - loss: 1.2039 - accuracy: 0.7147\n",
      "Test loss: 1.2038946151733398\n",
      "Test accuracy: 0.7147058844566345\n"
     ]
    }
   ],
   "source": [
    "loss, acc = model.evaluate(X1_te, y_te)\n",
    "print('Test loss:', loss)\n",
    "print('Test accuracy:', acc)"
   ]
  },
  {
   "cell_type": "markdown",
   "id": "9fa4f0ba",
   "metadata": {},
   "source": [
    "#### Visualizando a matriz de confusão"
   ]
  },
  {
   "cell_type": "code",
   "execution_count": 67,
   "id": "a088c94f",
   "metadata": {},
   "outputs": [],
   "source": [
    "y_pred = np.argmax(model.predict(X1_te), 1)"
   ]
  },
  {
   "cell_type": "code",
   "execution_count": 68,
   "id": "b3ba86b7",
   "metadata": {},
   "outputs": [
    {
     "data": {
      "text/plain": [
       "<sklearn.metrics._plot.confusion_matrix.ConfusionMatrixDisplay at 0x7fdec73e3c40>"
      ]
     },
     "execution_count": 68,
     "metadata": {},
     "output_type": "execute_result"
    },
    {
     "data": {
      "image/png": "[encoded data removed]",
      "text/plain": [
       "<Figure size 432x288 with 2 Axes>"
      ]
     },
     "metadata": {
      "needs_background": "light"
     },
     "output_type": "display_data"
    }
   ],
   "source": [
    "cm = ConfusionMatrixDisplay(confusion_matrix(y_te, y_pred))\n",
    "cm.plot()"
   ]
  },
  {
   "cell_type": "markdown",
   "id": "b9031143",
   "metadata": {},
   "source": [
    "### 3.2 - Testando com mais neurônios na hidden layer"
   ]
  },
  {
   "cell_type": "code",
   "execution_count": 71,
   "id": "86ea1425",
   "metadata": {},
   "outputs": [
    {
     "name": "stdout",
     "output_type": "stream",
     "text": [
      "Epoch 1/10\n",
      "16/16 [==============================] - 0s 8ms/step - loss: 2.7962 - accuracy: 0.1095 - val_loss: 2.7578 - val_accuracy: 0.0769\n",
      "Epoch 2/10\n",
      "16/16 [==============================] - 0s 3ms/step - loss: 2.7015 - accuracy: 0.1653 - val_loss: 2.6792 - val_accuracy: 0.1154\n",
      "Epoch 3/10\n",
      "16/16 [==============================] - 0s 3ms/step - loss: 2.6169 - accuracy: 0.2707 - val_loss: 2.5834 - val_accuracy: 0.3077\n",
      "Epoch 4/10\n",
      "16/16 [==============================] - 0s 3ms/step - loss: 2.5379 - accuracy: 0.3843 - val_loss: 2.4987 - val_accuracy: 0.3462\n",
      "Epoch 5/10\n",
      "16/16 [==============================] - 0s 3ms/step - loss: 2.4695 - accuracy: 0.4814 - val_loss: 2.4180 - val_accuracy: 0.5769\n",
      "Epoch 6/10\n",
      "16/16 [==============================] - 0s 3ms/step - loss: 2.4021 - accuracy: 0.5744 - val_loss: 2.3407 - val_accuracy: 0.5000\n",
      "Epoch 7/10\n",
      "16/16 [==============================] - 0s 3ms/step - loss: 2.3400 - accuracy: 0.5950 - val_loss: 2.2837 - val_accuracy: 0.6538\n",
      "Epoch 8/10\n",
      "16/16 [==============================] - 0s 3ms/step - loss: 2.2763 - accuracy: 0.5764 - val_loss: 2.2346 - val_accuracy: 0.6538\n",
      "Epoch 9/10\n",
      "16/16 [==============================] - 0s 3ms/step - loss: 2.2136 - accuracy: 0.6136 - val_loss: 2.1784 - val_accuracy: 0.5769\n",
      "Epoch 10/10\n",
      "16/16 [==============================] - 0s 3ms/step - loss: 2.1540 - accuracy: 0.6674 - val_loss: 2.1100 - val_accuracy: 0.7308\n"
     ]
    },
    {
     "data": {
      "text/plain": [
       "<keras.callbacks.History at 0x7fdec6b04c10>"
      ]
     },
     "execution_count": 71,
     "metadata": {},
     "output_type": "execute_result"
    }
   ],
   "source": [
    "model = keras.models.Sequential([\n",
    "keras.layers.InputLayer(input_shape=[124], name='Inputs'), #A primeira layer precisa sempre ter o formato dos inputs declarado\n",
    "                                            #Inputlayer é uma camada de entrada apenas. Não realiza nenhuma operação de prerpoc\n",
    "keras.layers.Dense(1000, activation=\"relu\", name='Hidden_01'),\n",
    "keras.layers.Dense(17, activation=\"softmax\", name='Output'), #Camada de outputs. Um neurônio por classe de saída\n",
    "])\n",
    "\n",
    "model.compile(loss=\"sparse_categorical_crossentropy\",\n",
    "              optimizer=\"sgd\",\n",
    "              metrics=[\"accuracy\"])\n",
    "\n",
    "model.fit(X1_tr, y_tr, epochs=10, validation_split=0.05)"
   ]
  },
  {
   "cell_type": "markdown",
   "id": "25a58f6a",
   "metadata": {},
   "source": [
    "Mesmo com muitos neurônios, não teve um bom resultado!"
   ]
  },
  {
   "cell_type": "markdown",
   "id": "9896f8f6",
   "metadata": {},
   "source": [
    "#### Avaliando modelo"
   ]
  },
  {
   "cell_type": "code",
   "execution_count": 72,
   "id": "66a3dd08",
   "metadata": {},
   "outputs": [
    {
     "name": "stdout",
     "output_type": "stream",
     "text": [
      "11/11 [==============================] - 0s 1ms/step - loss: 2.1192 - accuracy: 0.7059\n",
      "Test loss: 2.1191818714141846\n",
      "Test accuracy: 0.7058823704719543\n"
     ]
    }
   ],
   "source": [
    "loss, acc = model.evaluate(X1_te, y_te)\n",
    "print('Test loss:', loss)\n",
    "print('Test accuracy:', acc)"
   ]
  },
  {
   "cell_type": "markdown",
   "id": "84480ca0",
   "metadata": {},
   "source": [
    "#### Visualizando a matriz de confusão"
   ]
  },
  {
   "cell_type": "code",
   "execution_count": 73,
   "id": "9903fadc",
   "metadata": {},
   "outputs": [],
   "source": [
    "y_pred = np.argmax(model.predict(X1_te), 1)"
   ]
  },
  {
   "cell_type": "code",
   "execution_count": 74,
   "id": "c1f0f1ef",
   "metadata": {},
   "outputs": [
    {
     "data": {
      "text/plain": [
       "<sklearn.metrics._plot.confusion_matrix.ConfusionMatrixDisplay at 0x7fdec6080910>"
      ]
     },
     "execution_count": 74,
     "metadata": {},
     "output_type": "execute_result"
    },
    {
     "data": {
      "image/png": "[encoded data removed]",
      "text/plain": [
       "<Figure size 432x288 with 2 Axes>"
      ]
     },
     "metadata": {
      "needs_background": "light"
     },
     "output_type": "display_data"
    }
   ],
   "source": [
    "cm = ConfusionMatrixDisplay(confusion_matrix(y_te, y_pred))\n",
    "cm.plot()"
   ]
  },
  {
   "cell_type": "markdown",
   "id": "e03646bf",
   "metadata": {},
   "source": [
    "### 3.3 - Testando com duas camadas"
   ]
  },
  {
   "cell_type": "code",
   "execution_count": 75,
   "id": "869b12db",
   "metadata": {},
   "outputs": [
    {
     "name": "stdout",
     "output_type": "stream",
     "text": [
      "Model: \"sequential_24\"\n",
      "_________________________________________________________________\n",
      " Layer (type)                Output Shape              Param #   \n",
      "=================================================================\n",
      " Hidden_01 (Dense)           (None, 200)               25000     \n",
      "                                                                 \n",
      " Hidden_02 (Dense)           (None, 100)               20100     \n",
      "                                                                 \n",
      " Output (Dense)              (None, 17)                1717      \n",
      "                                                                 \n",
      "=================================================================\n",
      "Total params: 46,817\n",
      "Trainable params: 46,817\n",
      "Non-trainable params: 0\n",
      "_________________________________________________________________\n"
     ]
    }
   ],
   "source": [
    "model = keras.models.Sequential([\n",
    "keras.layers.InputLayer(input_shape=[124], name='Inputs'), #A primeira layer precisa sempre ter o formato dos inputs declarado\n",
    "                                            #Inputlayer é uma camada de entrada apenas. Não realiza nenhuma operação de prerpoc\n",
    "keras.layers.Dense(200, activation=\"relu\", name='Hidden_01'),\n",
    "keras.layers.Dense(100, activation=\"relu\", name='Hidden_02'),\n",
    "keras.layers.Dense(17, activation=\"softmax\", name='Output'), #Camada de outputs. Um neurônio por classe de saída\n",
    "])\n",
    "\n",
    "model.summary()"
   ]
  },
  {
   "cell_type": "code",
   "execution_count": 76,
   "id": "6dd1e0a5",
   "metadata": {},
   "outputs": [
    {
     "name": "stdout",
     "output_type": "stream",
     "text": [
      "Epoch 1/50\n",
      "16/16 [==============================] - 0s 8ms/step - loss: 2.8596 - accuracy: 0.0599 - val_loss: 2.7654 - val_accuracy: 0.1923\n",
      "Epoch 2/50\n",
      "16/16 [==============================] - 0s 3ms/step - loss: 2.7779 - accuracy: 0.1674 - val_loss: 2.7157 - val_accuracy: 0.2308\n",
      "Epoch 3/50\n",
      "16/16 [==============================] - 0s 3ms/step - loss: 2.7168 - accuracy: 0.2066 - val_loss: 2.6701 - val_accuracy: 0.2308\n",
      "Epoch 4/50\n",
      "16/16 [==============================] - 0s 3ms/step - loss: 2.6632 - accuracy: 0.2686 - val_loss: 2.6307 - val_accuracy: 0.2692\n",
      "Epoch 5/50\n",
      "16/16 [==============================] - 0s 2ms/step - loss: 2.6160 - accuracy: 0.2996 - val_loss: 2.5932 - val_accuracy: 0.3846\n",
      "Epoch 6/50\n",
      "16/16 [==============================] - 0s 2ms/step - loss: 2.5702 - accuracy: 0.3512 - val_loss: 2.5444 - val_accuracy: 0.3846\n",
      "Epoch 7/50\n",
      "16/16 [==============================] - 0s 2ms/step - loss: 2.5229 - accuracy: 0.3740 - val_loss: 2.4873 - val_accuracy: 0.4231\n",
      "Epoch 8/50\n",
      "16/16 [==============================] - 0s 3ms/step - loss: 2.4755 - accuracy: 0.4112 - val_loss: 2.4515 - val_accuracy: 0.4615\n",
      "Epoch 9/50\n",
      "16/16 [==============================] - 0s 3ms/step - loss: 2.4265 - accuracy: 0.4029 - val_loss: 2.4033 - val_accuracy: 0.3846\n",
      "Epoch 10/50\n",
      "16/16 [==============================] - 0s 3ms/step - loss: 2.3775 - accuracy: 0.4256 - val_loss: 2.3467 - val_accuracy: 0.3846\n",
      "Epoch 11/50\n",
      "16/16 [==============================] - 0s 3ms/step - loss: 2.3261 - accuracy: 0.4112 - val_loss: 2.2971 - val_accuracy: 0.5000\n",
      "Epoch 12/50\n",
      "16/16 [==============================] - 0s 3ms/step - loss: 2.2757 - accuracy: 0.5000 - val_loss: 2.2536 - val_accuracy: 0.5769\n",
      "Epoch 13/50\n",
      "16/16 [==============================] - 0s 3ms/step - loss: 2.2211 - accuracy: 0.5351 - val_loss: 2.1843 - val_accuracy: 0.5769\n",
      "Epoch 14/50\n",
      "16/16 [==============================] - 0s 3ms/step - loss: 2.1675 - accuracy: 0.5661 - val_loss: 2.1487 - val_accuracy: 0.5385\n",
      "Epoch 15/50\n",
      "16/16 [==============================] - 0s 3ms/step - loss: 2.1127 - accuracy: 0.5372 - val_loss: 2.0878 - val_accuracy: 0.3846\n",
      "Epoch 16/50\n",
      "16/16 [==============================] - 0s 3ms/step - loss: 2.0538 - accuracy: 0.5145 - val_loss: 2.0349 - val_accuracy: 0.5000\n",
      "Epoch 17/50\n",
      "16/16 [==============================] - 0s 3ms/step - loss: 1.9960 - accuracy: 0.5826 - val_loss: 1.9588 - val_accuracy: 0.5769\n",
      "Epoch 18/50\n",
      "16/16 [==============================] - 0s 3ms/step - loss: 1.9357 - accuracy: 0.6446 - val_loss: 1.9068 - val_accuracy: 0.6154\n",
      "Epoch 19/50\n",
      "16/16 [==============================] - 0s 2ms/step - loss: 1.8765 - accuracy: 0.6860 - val_loss: 1.8456 - val_accuracy: 0.6538\n",
      "Epoch 20/50\n",
      "16/16 [==============================] - 0s 2ms/step - loss: 1.8191 - accuracy: 0.6818 - val_loss: 1.7811 - val_accuracy: 0.7308\n",
      "Epoch 21/50\n",
      "16/16 [==============================] - 0s 2ms/step - loss: 1.7615 - accuracy: 0.7397 - val_loss: 1.7371 - val_accuracy: 0.6923\n",
      "Epoch 22/50\n",
      "16/16 [==============================] - 0s 3ms/step - loss: 1.7059 - accuracy: 0.7934 - val_loss: 1.6547 - val_accuracy: 0.7692\n",
      "Epoch 23/50\n",
      "16/16 [==============================] - 0s 2ms/step - loss: 1.6509 - accuracy: 0.7769 - val_loss: 1.5964 - val_accuracy: 0.7692\n",
      "Epoch 24/50\n",
      "16/16 [==============================] - 0s 3ms/step - loss: 1.5964 - accuracy: 0.7975 - val_loss: 1.5582 - val_accuracy: 0.7308\n",
      "Epoch 25/50\n",
      "16/16 [==============================] - 0s 2ms/step - loss: 1.5435 - accuracy: 0.8285 - val_loss: 1.4844 - val_accuracy: 0.8462\n",
      "Epoch 26/50\n",
      "16/16 [==============================] - 0s 3ms/step - loss: 1.4885 - accuracy: 0.8306 - val_loss: 1.4361 - val_accuracy: 0.8077\n",
      "Epoch 27/50\n",
      "16/16 [==============================] - 0s 3ms/step - loss: 1.4383 - accuracy: 0.8430 - val_loss: 1.3704 - val_accuracy: 0.9615\n",
      "Epoch 28/50\n",
      "16/16 [==============================] - 0s 3ms/step - loss: 1.3882 - accuracy: 0.9029 - val_loss: 1.3303 - val_accuracy: 0.9231\n",
      "Epoch 29/50\n",
      "16/16 [==============================] - 0s 2ms/step - loss: 1.3392 - accuracy: 0.8822 - val_loss: 1.2839 - val_accuracy: 0.9615\n",
      "Epoch 30/50\n",
      "16/16 [==============================] - 0s 3ms/step - loss: 1.2925 - accuracy: 0.9008 - val_loss: 1.2336 - val_accuracy: 0.8077\n",
      "Epoch 31/50\n",
      "16/16 [==============================] - 0s 3ms/step - loss: 1.2488 - accuracy: 0.8636 - val_loss: 1.1930 - val_accuracy: 0.9231\n",
      "Epoch 32/50\n",
      "16/16 [==============================] - 0s 3ms/step - loss: 1.2037 - accuracy: 0.9174 - val_loss: 1.1530 - val_accuracy: 0.8846\n",
      "Epoch 33/50\n",
      "16/16 [==============================] - 0s 3ms/step - loss: 1.1626 - accuracy: 0.8843 - val_loss: 1.1217 - val_accuracy: 0.9231\n",
      "Epoch 34/50\n",
      "16/16 [==============================] - 0s 3ms/step - loss: 1.1234 - accuracy: 0.9008 - val_loss: 1.0620 - val_accuracy: 0.9615\n",
      "Epoch 35/50\n",
      "16/16 [==============================] - 0s 3ms/step - loss: 1.0828 - accuracy: 0.9132 - val_loss: 1.0168 - val_accuracy: 1.0000\n",
      "Epoch 36/50\n",
      "16/16 [==============================] - 0s 3ms/step - loss: 1.0445 - accuracy: 0.9463 - val_loss: 0.9771 - val_accuracy: 0.9615\n",
      "Epoch 37/50\n",
      "16/16 [==============================] - 0s 3ms/step - loss: 1.0085 - accuracy: 0.9215 - val_loss: 0.9461 - val_accuracy: 1.0000\n",
      "Epoch 38/50\n",
      "16/16 [==============================] - 0s 3ms/step - loss: 0.9733 - accuracy: 0.9236 - val_loss: 0.9219 - val_accuracy: 0.9615\n",
      "Epoch 39/50\n",
      "16/16 [==============================] - 0s 2ms/step - loss: 0.9387 - accuracy: 0.9711 - val_loss: 0.9013 - val_accuracy: 0.9231\n",
      "Epoch 40/50\n",
      "16/16 [==============================] - 0s 2ms/step - loss: 0.9094 - accuracy: 0.9483 - val_loss: 0.8591 - val_accuracy: 1.0000\n",
      "Epoch 41/50\n",
      "16/16 [==============================] - 0s 2ms/step - loss: 0.8773 - accuracy: 0.9545 - val_loss: 0.8159 - val_accuracy: 0.9615\n",
      "Epoch 42/50\n",
      "16/16 [==============================] - 0s 3ms/step - loss: 0.8471 - accuracy: 0.9525 - val_loss: 0.7972 - val_accuracy: 0.9615\n",
      "Epoch 43/50\n",
      "16/16 [==============================] - 0s 2ms/step - loss: 0.8163 - accuracy: 0.9628 - val_loss: 0.7875 - val_accuracy: 1.0000\n",
      "Epoch 44/50\n",
      "16/16 [==============================] - 0s 3ms/step - loss: 0.7911 - accuracy: 0.9463 - val_loss: 0.7400 - val_accuracy: 1.0000\n",
      "Epoch 45/50\n",
      "16/16 [==============================] - 0s 3ms/step - loss: 0.7652 - accuracy: 0.9566 - val_loss: 0.7265 - val_accuracy: 0.9615\n",
      "Epoch 46/50\n",
      "16/16 [==============================] - 0s 3ms/step - loss: 0.7385 - accuracy: 0.9690 - val_loss: 0.6669 - val_accuracy: 0.9615\n",
      "Epoch 47/50\n",
      "16/16 [==============================] - 0s 3ms/step - loss: 0.7133 - accuracy: 0.9401 - val_loss: 0.6362 - val_accuracy: 1.0000\n",
      "Epoch 48/50\n",
      "16/16 [==============================] - 0s 2ms/step - loss: 0.6899 - accuracy: 0.9566 - val_loss: 0.6160 - val_accuracy: 1.0000\n",
      "Epoch 49/50\n",
      "16/16 [==============================] - 0s 3ms/step - loss: 0.6655 - accuracy: 0.9566 - val_loss: 0.6263 - val_accuracy: 1.0000\n",
      "Epoch 50/50\n",
      "16/16 [==============================] - 0s 3ms/step - loss: 0.6478 - accuracy: 0.9587 - val_loss: 0.5843 - val_accuracy: 1.0000\n"
     ]
    },
    {
     "data": {
      "text/plain": [
       "<keras.callbacks.History at 0x7fdea34adcd0>"
      ]
     },
     "execution_count": 76,
     "metadata": {},
     "output_type": "execute_result"
    }
   ],
   "source": [
    "model.compile(loss=\"sparse_categorical_crossentropy\",\n",
    "              optimizer=\"sgd\",\n",
    "              metrics=[\"accuracy\"])\n",
    "\n",
    "model.fit(X1_tr, y_tr, epochs=50, validation_split=0.05)"
   ]
  },
  {
   "cell_type": "markdown",
   "id": "84e811dd",
   "metadata": {},
   "source": [
    "#### Avaliando modelo"
   ]
  },
  {
   "cell_type": "code",
   "execution_count": 77,
   "id": "7eadc409",
   "metadata": {},
   "outputs": [
    {
     "name": "stdout",
     "output_type": "stream",
     "text": [
      "11/11 [==============================] - 0s 954us/step - loss: 0.6525 - accuracy: 0.9529\n",
      "Test loss: 0.6525071263313293\n",
      "Test accuracy: 0.9529411792755127\n"
     ]
    }
   ],
   "source": [
    "loss, acc = model.evaluate(X1_te, y_te)\n",
    "print('Test loss:', loss)\n",
    "print('Test accuracy:', acc)"
   ]
  },
  {
   "cell_type": "markdown",
   "id": "cad3d64c",
   "metadata": {},
   "source": [
    "#### Visualizando a matriz de confusão"
   ]
  },
  {
   "cell_type": "code",
   "execution_count": 78,
   "id": "60060a1b",
   "metadata": {},
   "outputs": [],
   "source": [
    "y_pred = np.argmax(model.predict(X1_te), 1)"
   ]
  },
  {
   "cell_type": "code",
   "execution_count": 79,
   "id": "07fe1d53",
   "metadata": {},
   "outputs": [
    {
     "data": {
      "text/plain": [
       "<sklearn.metrics._plot.confusion_matrix.ConfusionMatrixDisplay at 0x7fdea36eb910>"
      ]
     },
     "execution_count": 79,
     "metadata": {},
     "output_type": "execute_result"
    },
    {
     "data": {
      "image/png": "[encoded data removed]",
      "text/plain": [
       "<Figure size 432x288 with 2 Axes>"
      ]
     },
     "metadata": {
      "needs_background": "light"
     },
     "output_type": "display_data"
    }
   ],
   "source": [
    "cm = ConfusionMatrixDisplay(confusion_matrix(y_te, y_pred))\n",
    "cm.plot()"
   ]
  },
  {
   "cell_type": "markdown",
   "id": "3bf18945",
   "metadata": {},
   "source": [
    "### 3.3 - Testando com três camadas"
   ]
  },
  {
   "cell_type": "code",
   "execution_count": 80,
   "id": "4af5ef9d",
   "metadata": {},
   "outputs": [
    {
     "name": "stdout",
     "output_type": "stream",
     "text": [
      "Model: \"sequential_25\"\n",
      "_________________________________________________________________\n",
      " Layer (type)                Output Shape              Param #   \n",
      "=================================================================\n",
      " Hidden_01 (Dense)           (None, 200)               25000     \n",
      "                                                                 \n",
      " Hidden_02 (Dense)           (None, 100)               20100     \n",
      "                                                                 \n",
      " Hidden_03 (Dense)           (None, 100)               10100     \n",
      "                                                                 \n",
      " Output (Dense)              (None, 17)                1717      \n",
      "                                                                 \n",
      "=================================================================\n",
      "Total params: 56,917\n",
      "Trainable params: 56,917\n",
      "Non-trainable params: 0\n",
      "_________________________________________________________________\n"
     ]
    }
   ],
   "source": [
    "model = keras.models.Sequential([\n",
    "keras.layers.InputLayer(input_shape=[124], name='Inputs'), #A primeira layer precisa sempre ter o formato dos inputs declarado\n",
    "                                            #Inputlayer é uma camada de entrada apenas. Não realiza nenhuma operação de prerpoc\n",
    "keras.layers.Dense(200, activation=\"relu\", name='Hidden_01'),\n",
    "keras.layers.Dense(100, activation=\"relu\", name='Hidden_02'),\n",
    "keras.layers.Dense(100, activation=\"relu\", name='Hidden_03'),\n",
    "keras.layers.Dense(17, activation=\"softmax\", name='Output'), #Camada de outputs. Um neurônio por classe de saída\n",
    "])\n",
    "\n",
    "model.summary()"
   ]
  },
  {
   "cell_type": "code",
   "execution_count": 86,
   "id": "df0b5ea3",
   "metadata": {},
   "outputs": [
    {
     "name": "stdout",
     "output_type": "stream",
     "text": [
      "Epoch 1/50\n",
      "16/16 [==============================] - 0s 8ms/step - loss: 0.5451 - accuracy: 0.9504 - val_loss: 0.4861 - val_accuracy: 0.8462\n",
      "Epoch 2/50\n",
      "16/16 [==============================] - 0s 3ms/step - loss: 0.5199 - accuracy: 0.9483 - val_loss: 0.4529 - val_accuracy: 0.9231\n",
      "Epoch 3/50\n",
      "16/16 [==============================] - 0s 3ms/step - loss: 0.4968 - accuracy: 0.9504 - val_loss: 0.4173 - val_accuracy: 0.9615\n",
      "Epoch 4/50\n",
      "16/16 [==============================] - 0s 3ms/step - loss: 0.4713 - accuracy: 0.9628 - val_loss: 0.4089 - val_accuracy: 0.9231\n",
      "Epoch 5/50\n",
      "16/16 [==============================] - 0s 3ms/step - loss: 0.4500 - accuracy: 0.9421 - val_loss: 0.3763 - val_accuracy: 1.0000\n",
      "Epoch 6/50\n",
      "16/16 [==============================] - 0s 3ms/step - loss: 0.4281 - accuracy: 0.9545 - val_loss: 0.3601 - val_accuracy: 0.9615\n",
      "Epoch 7/50\n",
      "16/16 [==============================] - 0s 3ms/step - loss: 0.4161 - accuracy: 0.9463 - val_loss: 0.3669 - val_accuracy: 1.0000\n",
      "Epoch 8/50\n",
      "16/16 [==============================] - 0s 3ms/step - loss: 0.3979 - accuracy: 0.9607 - val_loss: 0.3404 - val_accuracy: 0.9231\n",
      "Epoch 9/50\n",
      "16/16 [==============================] - 0s 3ms/step - loss: 0.3785 - accuracy: 0.9504 - val_loss: 0.3118 - val_accuracy: 0.9231\n",
      "Epoch 10/50\n",
      "16/16 [==============================] - 0s 3ms/step - loss: 0.3650 - accuracy: 0.9587 - val_loss: 0.2908 - val_accuracy: 1.0000\n",
      "Epoch 11/50\n",
      "16/16 [==============================] - 0s 3ms/step - loss: 0.3541 - accuracy: 0.9628 - val_loss: 0.3441 - val_accuracy: 0.9231\n",
      "Epoch 12/50\n",
      "16/16 [==============================] - 0s 3ms/step - loss: 0.3402 - accuracy: 0.9566 - val_loss: 0.2748 - val_accuracy: 0.9615\n",
      "Epoch 13/50\n",
      "16/16 [==============================] - 0s 3ms/step - loss: 0.3246 - accuracy: 0.9711 - val_loss: 0.2455 - val_accuracy: 1.0000\n",
      "Epoch 14/50\n",
      "16/16 [==============================] - 0s 3ms/step - loss: 0.3173 - accuracy: 0.9587 - val_loss: 0.2509 - val_accuracy: 1.0000\n",
      "Epoch 15/50\n",
      "16/16 [==============================] - 0s 3ms/step - loss: 0.3029 - accuracy: 0.9669 - val_loss: 0.2972 - val_accuracy: 0.9231\n",
      "Epoch 16/50\n",
      "16/16 [==============================] - 0s 3ms/step - loss: 0.3006 - accuracy: 0.9587 - val_loss: 0.2124 - val_accuracy: 1.0000\n",
      "Epoch 17/50\n",
      "16/16 [==============================] - 0s 3ms/step - loss: 0.2807 - accuracy: 0.9669 - val_loss: 0.2440 - val_accuracy: 0.9615\n",
      "Epoch 18/50\n",
      "16/16 [==============================] - 0s 3ms/step - loss: 0.2733 - accuracy: 0.9669 - val_loss: 0.2459 - val_accuracy: 0.9231\n",
      "Epoch 19/50\n",
      "16/16 [==============================] - 0s 3ms/step - loss: 0.2628 - accuracy: 0.9566 - val_loss: 0.1934 - val_accuracy: 1.0000\n",
      "Epoch 20/50\n",
      "16/16 [==============================] - 0s 3ms/step - loss: 0.2549 - accuracy: 0.9649 - val_loss: 0.2009 - val_accuracy: 1.0000\n",
      "Epoch 21/50\n",
      "16/16 [==============================] - 0s 3ms/step - loss: 0.2576 - accuracy: 0.9628 - val_loss: 0.1925 - val_accuracy: 0.9615\n",
      "Epoch 22/50\n",
      "16/16 [==============================] - 0s 3ms/step - loss: 0.2413 - accuracy: 0.9752 - val_loss: 0.1856 - val_accuracy: 1.0000\n",
      "Epoch 23/50\n",
      "16/16 [==============================] - 0s 3ms/step - loss: 0.2326 - accuracy: 0.9731 - val_loss: 0.1888 - val_accuracy: 0.9615\n",
      "Epoch 24/50\n",
      "16/16 [==============================] - 0s 3ms/step - loss: 0.2296 - accuracy: 0.9669 - val_loss: 0.1683 - val_accuracy: 1.0000\n",
      "Epoch 25/50\n",
      "16/16 [==============================] - 0s 3ms/step - loss: 0.2201 - accuracy: 0.9731 - val_loss: 0.1644 - val_accuracy: 1.0000\n",
      "Epoch 26/50\n",
      "16/16 [==============================] - 0s 3ms/step - loss: 0.2168 - accuracy: 0.9773 - val_loss: 0.1496 - val_accuracy: 1.0000\n",
      "Epoch 27/50\n",
      "16/16 [==============================] - 0s 3ms/step - loss: 0.2112 - accuracy: 0.9752 - val_loss: 0.1759 - val_accuracy: 1.0000\n",
      "Epoch 28/50\n",
      "16/16 [==============================] - 0s 2ms/step - loss: 0.2061 - accuracy: 0.9773 - val_loss: 0.1488 - val_accuracy: 1.0000\n",
      "Epoch 29/50\n",
      "16/16 [==============================] - 0s 3ms/step - loss: 0.2018 - accuracy: 0.9711 - val_loss: 0.1499 - val_accuracy: 1.0000\n",
      "Epoch 30/50\n",
      "16/16 [==============================] - 0s 3ms/step - loss: 0.1962 - accuracy: 0.9835 - val_loss: 0.1414 - val_accuracy: 1.0000\n",
      "Epoch 31/50\n",
      "16/16 [==============================] - 0s 3ms/step - loss: 0.1919 - accuracy: 0.9752 - val_loss: 0.1332 - val_accuracy: 1.0000\n",
      "Epoch 32/50\n",
      "16/16 [==============================] - 0s 3ms/step - loss: 0.1885 - accuracy: 0.9752 - val_loss: 0.1707 - val_accuracy: 1.0000\n",
      "Epoch 33/50\n",
      "16/16 [==============================] - 0s 3ms/step - loss: 0.1918 - accuracy: 0.9731 - val_loss: 0.1265 - val_accuracy: 0.9615\n",
      "Epoch 34/50\n",
      "16/16 [==============================] - 0s 3ms/step - loss: 0.1786 - accuracy: 0.9731 - val_loss: 0.1325 - val_accuracy: 1.0000\n",
      "Epoch 35/50\n",
      "16/16 [==============================] - 0s 3ms/step - loss: 0.1752 - accuracy: 0.9731 - val_loss: 0.1268 - val_accuracy: 1.0000\n",
      "Epoch 36/50\n",
      "16/16 [==============================] - 0s 3ms/step - loss: 0.1686 - accuracy: 0.9835 - val_loss: 0.1839 - val_accuracy: 0.9231\n",
      "Epoch 37/50\n",
      "16/16 [==============================] - 0s 3ms/step - loss: 0.1703 - accuracy: 0.9711 - val_loss: 0.1178 - val_accuracy: 1.0000\n",
      "Epoch 38/50\n",
      "16/16 [==============================] - 0s 3ms/step - loss: 0.1666 - accuracy: 0.9711 - val_loss: 0.1178 - val_accuracy: 1.0000\n",
      "Epoch 39/50\n",
      "16/16 [==============================] - 0s 3ms/step - loss: 0.1572 - accuracy: 0.9793 - val_loss: 0.1156 - val_accuracy: 1.0000\n",
      "Epoch 40/50\n",
      "16/16 [==============================] - 0s 3ms/step - loss: 0.1588 - accuracy: 0.9731 - val_loss: 0.1092 - val_accuracy: 1.0000\n",
      "Epoch 41/50\n",
      "16/16 [==============================] - 0s 3ms/step - loss: 0.1533 - accuracy: 0.9793 - val_loss: 0.0955 - val_accuracy: 1.0000\n",
      "Epoch 42/50\n",
      "16/16 [==============================] - 0s 3ms/step - loss: 0.1524 - accuracy: 0.9711 - val_loss: 0.0962 - val_accuracy: 1.0000\n",
      "Epoch 43/50\n",
      "16/16 [==============================] - 0s 3ms/step - loss: 0.1476 - accuracy: 0.9793 - val_loss: 0.1132 - val_accuracy: 1.0000\n",
      "Epoch 44/50\n",
      "16/16 [==============================] - 0s 3ms/step - loss: 0.1429 - accuracy: 0.9835 - val_loss: 0.0849 - val_accuracy: 1.0000\n",
      "Epoch 45/50\n",
      "16/16 [==============================] - 0s 3ms/step - loss: 0.1434 - accuracy: 0.9773 - val_loss: 0.1054 - val_accuracy: 1.0000\n",
      "Epoch 46/50\n",
      "16/16 [==============================] - 0s 3ms/step - loss: 0.1392 - accuracy: 0.9752 - val_loss: 0.1056 - val_accuracy: 1.0000\n",
      "Epoch 47/50\n",
      "16/16 [==============================] - 0s 3ms/step - loss: 0.1372 - accuracy: 0.9855 - val_loss: 0.1120 - val_accuracy: 0.9231\n",
      "Epoch 48/50\n",
      "16/16 [==============================] - 0s 3ms/step - loss: 0.1335 - accuracy: 0.9773 - val_loss: 0.0873 - val_accuracy: 1.0000\n",
      "Epoch 49/50\n",
      "16/16 [==============================] - 0s 3ms/step - loss: 0.1325 - accuracy: 0.9814 - val_loss: 0.0851 - val_accuracy: 1.0000\n",
      "Epoch 50/50\n",
      "16/16 [==============================] - 0s 3ms/step - loss: 0.1288 - accuracy: 0.9814 - val_loss: 0.0808 - val_accuracy: 1.0000\n"
     ]
    },
    {
     "data": {
      "text/plain": [
       "<keras.callbacks.History at 0x7fdf228f0d90>"
      ]
     },
     "execution_count": 86,
     "metadata": {},
     "output_type": "execute_result"
    }
   ],
   "source": [
    "model.compile(loss=\"sparse_categorical_crossentropy\",\n",
    "              optimizer=\"sgd\",\n",
    "              metrics=[\"accuracy\"])\n",
    "\n",
    "model.fit(X1_tr, y_tr, epochs=50, validation_split=0.05)"
   ]
  },
  {
   "cell_type": "markdown",
   "id": "fe86096a",
   "metadata": {},
   "source": [
    "#### Avaliando modelo"
   ]
  },
  {
   "cell_type": "code",
   "execution_count": 87,
   "id": "5be7e2b4",
   "metadata": {},
   "outputs": [
    {
     "name": "stdout",
     "output_type": "stream",
     "text": [
      "11/11 [==============================] - 0s 969us/step - loss: 0.1279 - accuracy: 0.9971\n",
      "Test loss: 0.12789514660835266\n",
      "Test accuracy: 0.9970588088035583\n"
     ]
    }
   ],
   "source": [
    "loss, acc = model.evaluate(X1_te, y_te)\n",
    "print('Test loss:', loss)\n",
    "print('Test accuracy:', acc)"
   ]
  },
  {
   "cell_type": "markdown",
   "id": "39560c6c",
   "metadata": {},
   "source": [
    "#### Visualizando a matriz de confusão"
   ]
  },
  {
   "cell_type": "code",
   "execution_count": 88,
   "id": "04a255d4",
   "metadata": {},
   "outputs": [],
   "source": [
    "y_pred = np.argmax(model.predict(X1_te), 1)"
   ]
  },
  {
   "cell_type": "code",
   "execution_count": 89,
   "id": "58f2fabf",
   "metadata": {},
   "outputs": [
    {
     "data": {
      "text/plain": [
       "<sklearn.metrics._plot.confusion_matrix.ConfusionMatrixDisplay at 0x7fdf228665b0>"
      ]
     },
     "execution_count": 89,
     "metadata": {},
     "output_type": "execute_result"
    },
    {
     "data": {
      "image/png": "[encoded data removed]",
      "text/plain": [
       "<Figure size 432x288 with 2 Axes>"
      ]
     },
     "metadata": {
      "needs_background": "light"
     },
     "output_type": "display_data"
    }
   ],
   "source": [
    "cm = ConfusionMatrixDisplay(confusion_matrix(y_te, y_pred))\n",
    "cm.plot()"
   ]
  },
  {
   "cell_type": "markdown",
   "id": "2d71b7c2",
   "metadata": {},
   "source": [
    "## Passo 4 - Relembrando o Pipeline a ser usado"
   ]
  },
  {
   "cell_type": "markdown",
   "id": "5c6ce6ac",
   "metadata": {},
   "source": [
    "Antes de iniciarmos as comparações de modelo, vamos definir o Pipeline que pretendemos estudar. Até agora, todos os nossos estudos focaram nas seguintes etapas:\n",
    "\n",
    "* Adimensionalizar os dados (MinMaxScaler)\n",
    "* Aplicar um método de Feature Extraction (PCA)\n",
    "* Ajuste de um método\n",
    "\n",
    "Como para adequação do uso das redes neurais já considermos os inputs normalizados, aapenas os dois últimos passos devem ser contemplados no Pipeline a ser usado e os hiperparâmetros serão os adequados para cada método. Abaixo, a imagem tenta sumarizar o nosso pipeline.\n",
    "\n",
    "<img src=\"images\\Workflow.png\">\n",
    "\n",
    "De modo a facilitar a definição do Pipeline, faremos um método de conveniência para declará-lo."
   ]
  },
  {
   "cell_type": "code",
   "execution_count": 90,
   "id": "42ca2e12",
   "metadata": {},
   "outputs": [],
   "source": [
    "def declara_Pipeline(tupla_metodo):\n",
    "    \n",
    "    steps = [\n",
    "        #('Scaler', MinMaxScaler()),\n",
    "        ('PCA',    PCA(n_components=0.99)),\n",
    "        tupla_metodo,\n",
    "    ]\n",
    "    return Pipeline(steps)"
   ]
  },
  {
   "cell_type": "markdown",
   "id": "349f2466",
   "metadata": {},
   "source": [
    "## Passo 5 - Listando os modelos a serem testados e definindo hiperparâmetros a tunar"
   ]
  },
  {
   "cell_type": "markdown",
   "id": "2d60a1d1",
   "metadata": {},
   "source": [
    "Nessa etapa, vamos criar a lista dos modelos que queremos testar. Por praticidade e sabendo que todos os métodos podem apresentar bons resultados para o dado conjunto de dados, ficaremos apenas com o SVM e o KNN."
   ]
  },
  {
   "cell_type": "markdown",
   "id": "04c85b17",
   "metadata": {},
   "source": [
    "### 5.1 - Lista de modelos testados"
   ]
  },
  {
   "cell_type": "code",
   "execution_count": 94,
   "id": "2f1c9620",
   "metadata": {},
   "outputs": [],
   "source": [
    "models = [\n",
    "    #('SoftMax', LogisticRegression(multi_class='multinomial', max_iter=5000, solver='saga', random_state=rs)), #cortei pq demora\n",
    "    ('SVM',     SVC(max_iter=-1, random_state=71)),\n",
    "    ('KNN',     KNeighborsClassifier()),\n",
    "    ('ANN',     model),\n",
    "]\n"
   ]
  },
  {
   "cell_type": "markdown",
   "id": "4f8a005d",
   "metadata": {},
   "source": [
    "### 5.2 - Lista de parâmetros"
   ]
  },
  {
   "cell_type": "markdown",
   "id": "3b7cd303",
   "metadata": {},
   "source": [
    "A lista é em grande parte inspirada nos testes que fizemos na Atividade 03. Algumas variáveis que não tinha sensibilidade (como gamme e epsilon dos kernels do SVM) usei os valores do material de aula."
   ]
  },
  {
   "cell_type": "code",
   "execution_count": 95,
   "id": "deefa891",
   "metadata": {},
   "outputs": [],
   "source": [
    "parameters = [\n",
    "    #{\n",
    "    #    'PCA__n_components'  : stats.uniform(loc=0.7, scale=0.3),\n",
    "    #    'SoftMax__l1_ratio'  : stats.uniform(),\n",
    "    #    'SoftMax__C'         : stats.loguniform(1e-3, 1e3),\n",
    "    #    'SoftMax__penalty'   : ['elasticnet', 'none'],\n",
    "    #},\n",
    "    {\n",
    "        'PCA__n_components' : stats.uniform(loc=0.7, scale=0.3),\n",
    "        'SVM__C'            : stats.loguniform(1e-3, 1e3),\n",
    "        'SVM__kernel'       : ['linear', 'poly', 'rbf', 'sigmoid'],\n",
    "        'SVM__degree'       : stats.randint(2,6),\n",
    "        'SVM__gamma'        : stats.loguniform(1e-4, 1e0),\n",
    "    },\n",
    "    {\n",
    "        'PCA__n_components' : stats.uniform(loc=0.7, scale=0.3),\n",
    "        'KNN__n_neighbors'  : stats.randint(1,100),\n",
    "        'KNN__weights'      : ['uniform', 'distance']\n",
    "    },\n",
    "    {},\n",
    "]"
   ]
  },
  {
   "cell_type": "markdown",
   "id": "a2c9a72d",
   "metadata": {},
   "source": [
    "### 5.3 - Configurando KFolds"
   ]
  },
  {
   "cell_type": "code",
   "execution_count": 96,
   "id": "49cd966a",
   "metadata": {},
   "outputs": [],
   "source": [
    "kfolds = 5 # Numero de divisoes do conjunto de treino. Uma será para validação e as demais para treino\n",
    "niters = 50 # Numero de vezes a reamostrar\n",
    "rkf = RepeatedKFold(n_splits=kfolds, n_repeats=niters, random_state=rs)"
   ]
  },
  {
   "cell_type": "markdown",
   "id": "2557a651",
   "metadata": {},
   "source": [
    "## Passo 6 - Executando os modelos"
   ]
  },
  {
   "cell_type": "code",
   "execution_count": 99,
   "id": "95d73e56",
   "metadata": {},
   "outputs": [
    {
     "name": "stdout",
     "output_type": "stream",
     "text": [
      "Iniciando avaliação do modelo: SVM\n",
      "\n",
      "    Tempo de execução: 0:01:55.616629\n",
      "    Score treino: 0.9980392156862745\n",
      "    Score teste : 1.0\n",
      "\n",
      "    Resultados dos parâmetros:\n",
      "        Parâmetro PCA__n_components: 0.9703888953095935\n",
      "        Parâmetro SVM__C: 677.5627455306202\n",
      "        Parâmetro SVM__degree: 5\n",
      "        Parâmetro SVM__gamma: 0.0038576697013349903\n",
      "        Parâmetro SVM__kernel: rbf\n",
      "\n",
      "Iniciando avaliação do modelo: KNN\n",
      "\n",
      "    Tempo de execução: 0:01:02.062041\n",
      "    Score treino: 0.9980392156862745\n",
      "    Score teste : 0.9941176470588236\n",
      "\n",
      "    Resultados dos parâmetros:\n",
      "        Parâmetro KNN__n_neighbors: 4\n",
      "        Parâmetro KNN__weights: uniform\n",
      "        Parâmetro PCA__n_components: 0.9858614217375913\n",
      "\n",
      "Iniciando avaliação do modelo: ANN\n"
     ]
    },
    {
     "data": {
      "image/png": "[encoded data removed]",
      "text/plain": [
       "<Figure size 1224x360 with 6 Axes>"
      ]
     },
     "metadata": {
      "needs_background": "light"
     },
     "output_type": "display_data"
    }
   ],
   "source": [
    "n_iter = 100 #Numero de iterações do rdmsearch \n",
    "\n",
    "fig, axs = plt.subplots(ncols=3, nrows=1, figsize=(17,5))\n",
    "\n",
    "#Loop principal, iterando sobre as listas\n",
    "for model, params, ax in zip(models, parameters, axs):\n",
    "    \n",
    "    #print(params)\n",
    "    model_name = model[0]\n",
    "    model_exec = model[1]\n",
    "    print('Iniciando avaliação do modelo: {}'.format(model_name))\n",
    "    if not model_name == 'ANN':\n",
    "    \n",
    "        #Primeira etapa - criacao do Pipeline\n",
    "        pipeline = declara_Pipeline(model)\n",
    "    \n",
    "        t0 = datetime.now()\n",
    "    \n",
    "        #rkf = RepeatedKFold(n_splits=kfolds, n_repeats=niters, random_state=71)\n",
    "    \n",
    "        rdmsearch = RandomizedSearchCV(pipeline, verbose=0, scoring='accuracy', \n",
    "                                   param_distributions=params, n_iter=n_iter, n_jobs=6, \n",
    "                                   cv=rkf, random_state=rs)\n",
    "        with warnings.catch_warnings():\n",
    "            warnings.simplefilter(\"ignore\")\n",
    "            rdmsearch.fit(X1_tr, y_tr)\n",
    "        print()\n",
    "        print('    Tempo de execução: {}'.format(datetime.now() - t0))\n",
    "        print('    Score treino: {}'.format(rdmsearch.score(X1_tr, y_tr)))\n",
    "        print('    Score teste : {}'.format(rdmsearch.score(X1_te, y_te)))\n",
    "        print()\n",
    "        print('    Resultados dos parâmetros:')\n",
    "        for par in rdmsearch.best_params_.keys():\n",
    "            print('        Parâmetro {}: {}'.format(par, rdmsearch.best_params_[par]))  \n",
    "        print()\n",
    "        y_pred = rdmsearch.predict(X1_te)\n",
    "        \n",
    "    else:\n",
    "        y_pred = np.argmax(model_exec.predict(X1_te), 1)\n",
    "    cm = confusion_matrix(y_te, y_pred)\n",
    "    cmgraph = ConfusionMatrixDisplay(cm)\n",
    "    ax.set_title(model_name)\n",
    "    cmgraph.plot(ax=ax)\n"
   ]
  },
  {
   "cell_type": "markdown",
   "id": "55b29a20",
   "metadata": {},
   "source": [
    "## 7 - Conclusões"
   ]
  },
  {
   "cell_type": "markdown",
   "id": "574aaf4c",
   "metadata": {},
   "source": [
    "* Foram necessárias 3 camadas de neurônios par aobtermos um resuldado da ANN equivalente aos demais métodos no conjunto de teste\n",
    "* A convergência da rede para valores aceitáveis demandou, pelo menos, 50 epochs\n",
    "* Se comparado com o SoftMax do SkLearn com testagem de hiperparâmetros, a ANN do tensorflow/keras é bem mais eficiente (não rodamos nesse estudo, mas temos o histórico do RandomizedSearchCV dele"
   ]
  }
 ],
 "metadata": {
  "kernelspec": {
   "display_name": "Python 3 (ipykernel)",
   "language": "python",
   "name": "python3"
  },
  "language_info": {
   "codemirror_mode": {
    "name": "ipython",
    "version": 3
   },
   "file_extension": ".py",
   "mimetype": "text/x-python",
   "name": "python",
   "nbconvert_exporter": "python",
   "pygments_lexer": "ipython3",
   "version": "3.9.0"
  }
 },
 "nbformat": 4,
 "nbformat_minor": 5
}
